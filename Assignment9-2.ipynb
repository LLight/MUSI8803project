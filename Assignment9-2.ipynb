{
 "cells": [
  {
   "cell_type": "markdown",
   "metadata": {
    "kernel": "SoS"
   },
   "source": [
    "## Assignment 9 - Choose your own adventure\n",
    "\n",
    "For this assignment, you will wrangle your own data to show some meaningful visualizations of a feature that will be of interest to your particular topic of analysis. From the list of available choices below, **you will choose TWO visualizations to create from your own corpus data, one from the \"A\" group and one from the \"B\" group.** Note that some visualizations in the B group may be combined in a single plot (e.g., stacked bar plot), or may require multiple plots or \"side by side\" plots. \n",
    "\n",
    "Every project group is analyzing at least one of: *harmony, melody, and/or rhythm*, so it should not be hard to find something from the lists below to suit your needs. (However, if you would like to propose an alternative, you must approve it with me first.)\n",
    "\n",
    "Note: some of you have a between-groups design and others of you are still looking at 'groups' but in this case the groups have a linear relationship (e.g., epochs over time). In that case, be sure to make any plots or visualizations with the groups appropriately ordered.\n"
   ]
  },
  {
   "cell_type": "markdown",
   "metadata": {
    "kernel": "SoS"
   },
   "source": [
    "## A group: basic distributions and categorizations\n",
    "\n",
    "\n",
    "\n",
    "* Distribution of melodic intervals between/across groups (may be directed or undirected as relevant, usually best to collapse to simple from compound)\n",
    "\n",
    "\n",
    "* Comparison of melodic interval ranges in semitones including means and standard deviations (e.g., boxplots or whisker plots) between/across groups\n",
    "\n",
    "\n",
    "* Comparison of the distribution of harmonic intervals between/across groups\n",
    "\n",
    "\n",
    "* Comparison/categorization of consonant to dissonant harmonic intervals between/across groups\n",
    "\n",
    "\n",
    "* Distribution of rhythmic values (durations), or inter-onset intervals (if you don't have durations) between/across groups\n",
    "\n",
    "\n",
    "* Distribution of beats or beat onsets (or onsets relative to measure in music21) between/across groups\n",
    "\n",
    "\n",
    "* Distribution of harmonies used (with vocabulary reduced as appropriate for your dataset) between/across groups\n",
    "\n",
    "\n",
    "\n",
    "\n"
   ]
  },
  {
   "cell_type": "markdown",
   "metadata": {
    "kernel": "SoS"
   },
   "source": [
    "## B group pairwise comparisons, sequential relations, or more complex grouping\n",
    "bigrams = antecedent to consequent pairs using a sliding window (like humdrum \"context\") <br/>\n",
    "If you have groups or are making comparisons over time or epochs, most of these could be performed similarly.\n",
    "\n",
    "* Comparison of interval bigrams \n",
    "\n",
    "\n",
    "* Comparison of contour bigrams\n",
    "\n",
    "\n",
    "* Comparison of harmonic bigrams\n",
    "\n",
    "\n",
    "* Comparison of IOI or duration bigrams (either differences or absolutes?)\n",
    "\n",
    "\n",
    "* Comparison of consonant or dissonant intervals on strong versus weak beats (across groups)\n",
    "\n",
    "\n",
    "* Average number of X per measure (this may be a proxy for something like 'complexity'). E.g., average # of duration changes (or unique duration types) per measure; avg # of chords per measure; avg intervallic range per measure. [Note this could also be per *something else* like the piece level; e.g., average # of time signature changes per piece]\n",
    "\n",
    "\n",
    "* Classification of X along some variable Y (across groups if relevant) (E.g., proportion of root versus first inversion versus second inversion triads as a function of the beat strength or chord offset); \n"
   ]
  },
  {
   "cell_type": "code",
   "execution_count": 1,
   "metadata": {
    "kernel": "Python 3"
   },
   "outputs": [],
   "source": [
    "from music21 import *\n",
    "import pandas as pd\n",
    "import os\n",
    "import re\n",
    "import matplotlib.pyplot as plt\n",
    "import numpy as np\n",
    "import math"
   ]
  },
  {
   "cell_type": "code",
   "execution_count": 4,
   "metadata": {
    "kernel": "Python 3"
   },
   "outputs": [
    {
     "data": {
      "text/plain": [
       "Index(['Unnamed: 0', 'Chord', 'Composer', 'File', 'NormalForm', 'Offset',\n",
       "       'PCsInNormalForm', 'beatNumber', 'measureNumber', 'pieceNumber',\n",
       "       'pieceName', 'movementName', 'genre', 'publicationYear', 'Epoch',\n",
       "       'Source', 'fileFormat', 'phraseAnalysis', 'fileConversion',\n",
       "       'getChords'],\n",
       "      dtype='object')"
      ]
     },
     "execution_count": 4,
     "metadata": {},
     "output_type": "execute_result"
    }
   ],
   "source": [
    "# Get the analytic dataset into a pandas dataframe\n",
    "\n",
    "dataset = pd.read_csv('analyticDataset.csv')\n",
    "dataset.columns"
   ]
  },
  {
   "cell_type": "code",
   "execution_count": 5,
   "metadata": {
    "kernel": "Python 3"
   },
   "outputs": [
    {
     "ename": "KeyError",
     "evalue": "'Normal Form'",
     "output_type": "error",
     "traceback": [
      "\u001b[1;31m---------------------------------------------------------------------------\u001b[0m",
      "\u001b[1;31mKeyError\u001b[0m                                  Traceback (most recent call last)",
      "\u001b[1;32mC:\\ProgramData\\Anaconda3\\lib\\site-packages\\pandas\\core\\indexes\\base.py\u001b[0m in \u001b[0;36mget_loc\u001b[1;34m(self, key, method, tolerance)\u001b[0m\n\u001b[0;32m   2896\u001b[0m             \u001b[1;32mtry\u001b[0m\u001b[1;33m:\u001b[0m\u001b[1;33m\u001b[0m\u001b[1;33m\u001b[0m\u001b[0m\n\u001b[1;32m-> 2897\u001b[1;33m                 \u001b[1;32mreturn\u001b[0m \u001b[0mself\u001b[0m\u001b[1;33m.\u001b[0m\u001b[0m_engine\u001b[0m\u001b[1;33m.\u001b[0m\u001b[0mget_loc\u001b[0m\u001b[1;33m(\u001b[0m\u001b[0mkey\u001b[0m\u001b[1;33m)\u001b[0m\u001b[1;33m\u001b[0m\u001b[1;33m\u001b[0m\u001b[0m\n\u001b[0m\u001b[0;32m   2898\u001b[0m             \u001b[1;32mexcept\u001b[0m \u001b[0mKeyError\u001b[0m\u001b[1;33m:\u001b[0m\u001b[1;33m\u001b[0m\u001b[1;33m\u001b[0m\u001b[0m\n",
      "\u001b[1;32mpandas\\_libs\\index.pyx\u001b[0m in \u001b[0;36mpandas._libs.index.IndexEngine.get_loc\u001b[1;34m()\u001b[0m\n",
      "\u001b[1;32mpandas\\_libs\\index.pyx\u001b[0m in \u001b[0;36mpandas._libs.index.IndexEngine.get_loc\u001b[1;34m()\u001b[0m\n",
      "\u001b[1;32mpandas\\_libs\\hashtable_class_helper.pxi\u001b[0m in \u001b[0;36mpandas._libs.hashtable.PyObjectHashTable.get_item\u001b[1;34m()\u001b[0m\n",
      "\u001b[1;32mpandas\\_libs\\hashtable_class_helper.pxi\u001b[0m in \u001b[0;36mpandas._libs.hashtable.PyObjectHashTable.get_item\u001b[1;34m()\u001b[0m\n",
      "\u001b[1;31mKeyError\u001b[0m: 'Normal Form'",
      "\nDuring handling of the above exception, another exception occurred:\n",
      "\u001b[1;31mKeyError\u001b[0m                                  Traceback (most recent call last)",
      "\u001b[1;32m<ipython-input-5-67e3018362b7>\u001b[0m in \u001b[0;36m<module>\u001b[1;34m\u001b[0m\n\u001b[0;32m      1\u001b[0m \u001b[1;31m# Combine the two different normal form columns from the analytic dataset into a single list\u001b[0m\u001b[1;33m\u001b[0m\u001b[1;33m\u001b[0m\u001b[1;33m\u001b[0m\u001b[0m\n\u001b[0;32m      2\u001b[0m \u001b[0mcombinedNorm\u001b[0m \u001b[1;33m=\u001b[0m \u001b[1;33m[\u001b[0m\u001b[1;33m]\u001b[0m\u001b[1;33m\u001b[0m\u001b[1;33m\u001b[0m\u001b[0m\n\u001b[1;32m----> 3\u001b[1;33m \u001b[1;32mfor\u001b[0m \u001b[0mi\u001b[0m \u001b[1;32min\u001b[0m \u001b[0mrange\u001b[0m\u001b[1;33m(\u001b[0m\u001b[0mlen\u001b[0m\u001b[1;33m(\u001b[0m\u001b[0mdataset\u001b[0m\u001b[1;33m[\u001b[0m\u001b[1;34m'Normal Form'\u001b[0m\u001b[1;33m]\u001b[0m\u001b[1;33m)\u001b[0m\u001b[1;33m)\u001b[0m\u001b[1;33m:\u001b[0m\u001b[1;33m\u001b[0m\u001b[1;33m\u001b[0m\u001b[0m\n\u001b[0m\u001b[0;32m      4\u001b[0m     \u001b[0mx\u001b[0m \u001b[1;33m=\u001b[0m \u001b[0mdataset\u001b[0m\u001b[1;33m[\u001b[0m\u001b[1;34m'Normal Form'\u001b[0m\u001b[1;33m]\u001b[0m\u001b[1;33m[\u001b[0m\u001b[0mi\u001b[0m\u001b[1;33m]\u001b[0m\u001b[1;33m\u001b[0m\u001b[1;33m\u001b[0m\u001b[0m\n\u001b[0;32m      5\u001b[0m     \u001b[0my\u001b[0m \u001b[1;33m=\u001b[0m \u001b[0mdataset\u001b[0m\u001b[1;33m[\u001b[0m\u001b[1;34m'NormalForm'\u001b[0m\u001b[1;33m]\u001b[0m\u001b[1;33m[\u001b[0m\u001b[0mi\u001b[0m\u001b[1;33m]\u001b[0m\u001b[1;33m\u001b[0m\u001b[1;33m\u001b[0m\u001b[0m\n",
      "\u001b[1;32mC:\\ProgramData\\Anaconda3\\lib\\site-packages\\pandas\\core\\frame.py\u001b[0m in \u001b[0;36m__getitem__\u001b[1;34m(self, key)\u001b[0m\n\u001b[0;32m   2978\u001b[0m             \u001b[1;32mif\u001b[0m \u001b[0mself\u001b[0m\u001b[1;33m.\u001b[0m\u001b[0mcolumns\u001b[0m\u001b[1;33m.\u001b[0m\u001b[0mnlevels\u001b[0m \u001b[1;33m>\u001b[0m \u001b[1;36m1\u001b[0m\u001b[1;33m:\u001b[0m\u001b[1;33m\u001b[0m\u001b[1;33m\u001b[0m\u001b[0m\n\u001b[0;32m   2979\u001b[0m                 \u001b[1;32mreturn\u001b[0m \u001b[0mself\u001b[0m\u001b[1;33m.\u001b[0m\u001b[0m_getitem_multilevel\u001b[0m\u001b[1;33m(\u001b[0m\u001b[0mkey\u001b[0m\u001b[1;33m)\u001b[0m\u001b[1;33m\u001b[0m\u001b[1;33m\u001b[0m\u001b[0m\n\u001b[1;32m-> 2980\u001b[1;33m             \u001b[0mindexer\u001b[0m \u001b[1;33m=\u001b[0m \u001b[0mself\u001b[0m\u001b[1;33m.\u001b[0m\u001b[0mcolumns\u001b[0m\u001b[1;33m.\u001b[0m\u001b[0mget_loc\u001b[0m\u001b[1;33m(\u001b[0m\u001b[0mkey\u001b[0m\u001b[1;33m)\u001b[0m\u001b[1;33m\u001b[0m\u001b[1;33m\u001b[0m\u001b[0m\n\u001b[0m\u001b[0;32m   2981\u001b[0m             \u001b[1;32mif\u001b[0m \u001b[0mis_integer\u001b[0m\u001b[1;33m(\u001b[0m\u001b[0mindexer\u001b[0m\u001b[1;33m)\u001b[0m\u001b[1;33m:\u001b[0m\u001b[1;33m\u001b[0m\u001b[1;33m\u001b[0m\u001b[0m\n\u001b[0;32m   2982\u001b[0m                 \u001b[0mindexer\u001b[0m \u001b[1;33m=\u001b[0m \u001b[1;33m[\u001b[0m\u001b[0mindexer\u001b[0m\u001b[1;33m]\u001b[0m\u001b[1;33m\u001b[0m\u001b[1;33m\u001b[0m\u001b[0m\n",
      "\u001b[1;32mC:\\ProgramData\\Anaconda3\\lib\\site-packages\\pandas\\core\\indexes\\base.py\u001b[0m in \u001b[0;36mget_loc\u001b[1;34m(self, key, method, tolerance)\u001b[0m\n\u001b[0;32m   2897\u001b[0m                 \u001b[1;32mreturn\u001b[0m \u001b[0mself\u001b[0m\u001b[1;33m.\u001b[0m\u001b[0m_engine\u001b[0m\u001b[1;33m.\u001b[0m\u001b[0mget_loc\u001b[0m\u001b[1;33m(\u001b[0m\u001b[0mkey\u001b[0m\u001b[1;33m)\u001b[0m\u001b[1;33m\u001b[0m\u001b[1;33m\u001b[0m\u001b[0m\n\u001b[0;32m   2898\u001b[0m             \u001b[1;32mexcept\u001b[0m \u001b[0mKeyError\u001b[0m\u001b[1;33m:\u001b[0m\u001b[1;33m\u001b[0m\u001b[1;33m\u001b[0m\u001b[0m\n\u001b[1;32m-> 2899\u001b[1;33m                 \u001b[1;32mreturn\u001b[0m \u001b[0mself\u001b[0m\u001b[1;33m.\u001b[0m\u001b[0m_engine\u001b[0m\u001b[1;33m.\u001b[0m\u001b[0mget_loc\u001b[0m\u001b[1;33m(\u001b[0m\u001b[0mself\u001b[0m\u001b[1;33m.\u001b[0m\u001b[0m_maybe_cast_indexer\u001b[0m\u001b[1;33m(\u001b[0m\u001b[0mkey\u001b[0m\u001b[1;33m)\u001b[0m\u001b[1;33m)\u001b[0m\u001b[1;33m\u001b[0m\u001b[1;33m\u001b[0m\u001b[0m\n\u001b[0m\u001b[0;32m   2900\u001b[0m         \u001b[0mindexer\u001b[0m \u001b[1;33m=\u001b[0m \u001b[0mself\u001b[0m\u001b[1;33m.\u001b[0m\u001b[0mget_indexer\u001b[0m\u001b[1;33m(\u001b[0m\u001b[1;33m[\u001b[0m\u001b[0mkey\u001b[0m\u001b[1;33m]\u001b[0m\u001b[1;33m,\u001b[0m \u001b[0mmethod\u001b[0m\u001b[1;33m=\u001b[0m\u001b[0mmethod\u001b[0m\u001b[1;33m,\u001b[0m \u001b[0mtolerance\u001b[0m\u001b[1;33m=\u001b[0m\u001b[0mtolerance\u001b[0m\u001b[1;33m)\u001b[0m\u001b[1;33m\u001b[0m\u001b[1;33m\u001b[0m\u001b[0m\n\u001b[0;32m   2901\u001b[0m         \u001b[1;32mif\u001b[0m \u001b[0mindexer\u001b[0m\u001b[1;33m.\u001b[0m\u001b[0mndim\u001b[0m \u001b[1;33m>\u001b[0m \u001b[1;36m1\u001b[0m \u001b[1;32mor\u001b[0m \u001b[0mindexer\u001b[0m\u001b[1;33m.\u001b[0m\u001b[0msize\u001b[0m \u001b[1;33m>\u001b[0m \u001b[1;36m1\u001b[0m\u001b[1;33m:\u001b[0m\u001b[1;33m\u001b[0m\u001b[1;33m\u001b[0m\u001b[0m\n",
      "\u001b[1;32mpandas\\_libs\\index.pyx\u001b[0m in \u001b[0;36mpandas._libs.index.IndexEngine.get_loc\u001b[1;34m()\u001b[0m\n",
      "\u001b[1;32mpandas\\_libs\\index.pyx\u001b[0m in \u001b[0;36mpandas._libs.index.IndexEngine.get_loc\u001b[1;34m()\u001b[0m\n",
      "\u001b[1;32mpandas\\_libs\\hashtable_class_helper.pxi\u001b[0m in \u001b[0;36mpandas._libs.hashtable.PyObjectHashTable.get_item\u001b[1;34m()\u001b[0m\n",
      "\u001b[1;32mpandas\\_libs\\hashtable_class_helper.pxi\u001b[0m in \u001b[0;36mpandas._libs.hashtable.PyObjectHashTable.get_item\u001b[1;34m()\u001b[0m\n",
      "\u001b[1;31mKeyError\u001b[0m: 'Normal Form'"
     ]
    }
   ],
   "source": [
    "# Combine the two different normal form columns from the analytic dataset into a single list\n",
    "combinedNorm = []\n",
    "for i in range(len(dataset['Normal Form'])):\n",
    "    x = dataset['Normal Form'][i]\n",
    "    y = dataset['NormalForm'][i]\n",
    "    if isinstance(x, str):\n",
    "        combinedNorm.append(x)\n",
    "    else:\n",
    "        combinedNorm.append(y)"
   ]
  },
  {
   "cell_type": "code",
   "execution_count": 4,
   "metadata": {
    "kernel": "Python 3",
    "scrolled": true
   },
   "outputs": [
    {
     "data": {
      "text/html": [
       "<div>\n",
       "<style scoped>\n",
       "    .dataframe tbody tr th:only-of-type {\n",
       "        vertical-align: middle;\n",
       "    }\n",
       "\n",
       "    .dataframe tbody tr th {\n",
       "        vertical-align: top;\n",
       "    }\n",
       "\n",
       "    .dataframe thead th {\n",
       "        text-align: right;\n",
       "    }\n",
       "</style>\n",
       "<table border=\"1\" class=\"dataframe\">\n",
       "  <thead>\n",
       "    <tr style=\"text-align: right;\">\n",
       "      <th></th>\n",
       "      <th>Chord</th>\n",
       "      <th>offset</th>\n",
       "      <th>File</th>\n",
       "      <th>Norm</th>\n",
       "    </tr>\n",
       "  </thead>\n",
       "  <tbody>\n",
       "    <tr>\n",
       "      <th>0</th>\n",
       "      <td>&lt;music21.chord.Chord E3&gt;</td>\n",
       "      <td>0.000</td>\n",
       "      <td>AlariodelRio_Sol_Sostenido.xml</td>\n",
       "      <td>[0]</td>\n",
       "    </tr>\n",
       "    <tr>\n",
       "      <th>1</th>\n",
       "      <td>&lt;music21.chord.Chord A#3&gt;</td>\n",
       "      <td>0.500</td>\n",
       "      <td>AlariodelRio_Sol_Sostenido.xml</td>\n",
       "      <td>[0]</td>\n",
       "    </tr>\n",
       "    <tr>\n",
       "      <th>2</th>\n",
       "      <td>&lt;music21.chord.Chord G#3&gt;</td>\n",
       "      <td>1.000</td>\n",
       "      <td>AlariodelRio_Sol_Sostenido.xml</td>\n",
       "      <td>[0]</td>\n",
       "    </tr>\n",
       "    <tr>\n",
       "      <th>3</th>\n",
       "      <td>&lt;music21.chord.Chord D#3&gt;</td>\n",
       "      <td>1.500</td>\n",
       "      <td>AlariodelRio_Sol_Sostenido.xml</td>\n",
       "      <td>[0]</td>\n",
       "    </tr>\n",
       "    <tr>\n",
       "      <th>4</th>\n",
       "      <td>&lt;music21.chord.Chord A#3&gt;</td>\n",
       "      <td>2.000</td>\n",
       "      <td>AlariodelRio_Sol_Sostenido.xml</td>\n",
       "      <td>[0]</td>\n",
       "    </tr>\n",
       "    <tr>\n",
       "      <th>...</th>\n",
       "      <td>...</td>\n",
       "      <td>...</td>\n",
       "      <td>...</td>\n",
       "      <td>...</td>\n",
       "    </tr>\n",
       "    <tr>\n",
       "      <th>31150</th>\n",
       "      <td>&lt;music21.chord.Chord A-2&gt;</td>\n",
       "      <td>365.875</td>\n",
       "      <td>Zhang_Mazurka.xml</td>\n",
       "      <td>[0]</td>\n",
       "    </tr>\n",
       "    <tr>\n",
       "      <th>31151</th>\n",
       "      <td>&lt;music21.chord.Chord D-2&gt;</td>\n",
       "      <td>366.000</td>\n",
       "      <td>Zhang_Mazurka.xml</td>\n",
       "      <td>[0]</td>\n",
       "    </tr>\n",
       "    <tr>\n",
       "      <th>31152</th>\n",
       "      <td>&lt;music21.chord.Chord G-1 G-2 A2 C#3 E3 B--3 D-...</td>\n",
       "      <td>368.000</td>\n",
       "      <td>Zhang_Mazurka.xml</td>\n",
       "      <td>[0, 3, 5, 8]</td>\n",
       "    </tr>\n",
       "    <tr>\n",
       "      <th>31153</th>\n",
       "      <td>&lt;music21.chord.Chord D-1 D-2 F4 A-4 F5&gt;</td>\n",
       "      <td>370.000</td>\n",
       "      <td>Zhang_Mazurka.xml</td>\n",
       "      <td>[0, 4, 7]</td>\n",
       "    </tr>\n",
       "    <tr>\n",
       "      <th>31154</th>\n",
       "      <td>&lt;music21.chord.Chord G2 A2 C#3 E3 A-3 B-3 D-4 ...</td>\n",
       "      <td>372.000</td>\n",
       "      <td>Zhang_Mazurka.xml</td>\n",
       "      <td>[0, 3, 4, 6, 7, 8, 9]</td>\n",
       "    </tr>\n",
       "  </tbody>\n",
       "</table>\n",
       "<p>27927 rows × 4 columns</p>\n",
       "</div>"
      ],
      "text/plain": [
       "                                                   Chord   offset  \\\n",
       "0                               <music21.chord.Chord E3>    0.000   \n",
       "1                              <music21.chord.Chord A#3>    0.500   \n",
       "2                              <music21.chord.Chord G#3>    1.000   \n",
       "3                              <music21.chord.Chord D#3>    1.500   \n",
       "4                              <music21.chord.Chord A#3>    2.000   \n",
       "...                                                  ...      ...   \n",
       "31150                          <music21.chord.Chord A-2>  365.875   \n",
       "31151                          <music21.chord.Chord D-2>  366.000   \n",
       "31152  <music21.chord.Chord G-1 G-2 A2 C#3 E3 B--3 D-...  368.000   \n",
       "31153            <music21.chord.Chord D-1 D-2 F4 A-4 F5>  370.000   \n",
       "31154  <music21.chord.Chord G2 A2 C#3 E3 A-3 B-3 D-4 ...  372.000   \n",
       "\n",
       "                                 File                   Norm  \n",
       "0      AlariodelRio_Sol_Sostenido.xml                    [0]  \n",
       "1      AlariodelRio_Sol_Sostenido.xml                    [0]  \n",
       "2      AlariodelRio_Sol_Sostenido.xml                    [0]  \n",
       "3      AlariodelRio_Sol_Sostenido.xml                    [0]  \n",
       "4      AlariodelRio_Sol_Sostenido.xml                    [0]  \n",
       "...                               ...                    ...  \n",
       "31150               Zhang_Mazurka.xml                    [0]  \n",
       "31151               Zhang_Mazurka.xml                    [0]  \n",
       "31152               Zhang_Mazurka.xml           [0, 3, 5, 8]  \n",
       "31153               Zhang_Mazurka.xml              [0, 4, 7]  \n",
       "31154               Zhang_Mazurka.xml  [0, 3, 4, 6, 7, 8, 9]  \n",
       "\n",
       "[27927 rows x 4 columns]"
      ]
     },
     "execution_count": 4,
     "metadata": {},
     "output_type": "execute_result"
    }
   ],
   "source": [
    "# Create a new dataframe that's just the chords and offsets\n",
    "chord_df = dataset[['Chord', 'offset', 'file']].copy()\n",
    "chord_df.columns = ['Chord', 'offset', 'File']\n",
    "chord_df['Norm'] = combinedNorm\n",
    "chord_df.dropna()"
   ]
  },
  {
   "cell_type": "code",
   "execution_count": 5,
   "metadata": {
    "kernel": "Python 3"
   },
   "outputs": [],
   "source": [
    "# Convert chord string from YCAC csvs back to music21 chord object\n",
    "def strToChord(chord_str):\n",
    "    patt = '\\<music21\\.chord\\.Chord ([^>]*)>'\n",
    "    notes = re.findall(patt, chord_str)\n",
    "    newChord = chord.Chord(notes[0].split())\n",
    "    return newChord"
   ]
  },
  {
   "cell_type": "code",
   "execution_count": 6,
   "metadata": {
    "kernel": "Python 3"
   },
   "outputs": [],
   "source": [
    "# Define functions to apply to dataframe columns\n",
    "def commonName(chrd):\n",
    "    return chrd.commonName\n",
    "def contains7(chrd):\n",
    "    return chrd.containsSeventh()\n",
    "def normalForm(chrd):\n",
    "    return chrd.geometricNormalForm()"
   ]
  },
  {
   "cell_type": "code",
   "execution_count": 7,
   "metadata": {
    "kernel": "Python 3",
    "scrolled": true
   },
   "outputs": [],
   "source": [
    "# Remove notes that don't fall on a downbeat\n",
    "mask = chord_df['offset'].apply(lambda x: x.is_integer())\n",
    "chord_df = chord_df.loc[mask]"
   ]
  },
  {
   "cell_type": "code",
   "execution_count": 8,
   "metadata": {
    "kernel": "Python 3",
    "scrolled": true
   },
   "outputs": [],
   "source": [
    "# Create columns for common name and whether the chord contains a 7th\n",
    "chord_df['Chord'] = chord_df['Chord'].apply(strToChord)\n",
    "chord_df['Common Names'] = chord_df['Chord'].apply(commonName)\n",
    "chord_df['Contains 7th'] = chord_df['Chord'].apply(contains7)"
   ]
  },
  {
   "cell_type": "code",
   "execution_count": 1,
   "metadata": {
    "kernel": "Python 3"
   },
   "outputs": [
    {
     "ename": "NameError",
     "evalue": "name 'chord_df' is not defined",
     "output_type": "error",
     "traceback": [
      "\u001b[1;31m---------------------------------------------------------------------------\u001b[0m",
      "\u001b[1;31mNameError\u001b[0m                                 Traceback (most recent call last)",
      "\u001b[1;32m<ipython-input-1-1389b6541396>\u001b[0m in \u001b[0;36m<module>\u001b[1;34m\u001b[0m\n\u001b[0;32m      1\u001b[0m \u001b[1;31m# Remove Unisons\u001b[0m\u001b[1;33m\u001b[0m\u001b[1;33m\u001b[0m\u001b[1;33m\u001b[0m\u001b[0m\n\u001b[1;32m----> 2\u001b[1;33m \u001b[0mchord_df\u001b[0m \u001b[1;33m=\u001b[0m \u001b[0mchord_df\u001b[0m\u001b[1;33m.\u001b[0m\u001b[0mloc\u001b[0m\u001b[1;33m[\u001b[0m\u001b[0mchord_df\u001b[0m\u001b[1;33m[\u001b[0m\u001b[1;34m'Common Names'\u001b[0m\u001b[1;33m]\u001b[0m \u001b[1;33m!=\u001b[0m \u001b[1;34m'unison'\u001b[0m\u001b[1;33m]\u001b[0m\u001b[1;33m\u001b[0m\u001b[1;33m\u001b[0m\u001b[0m\n\u001b[0m",
      "\u001b[1;31mNameError\u001b[0m: name 'chord_df' is not defined"
     ]
    }
   ],
   "source": [
    "# Remove Unisons\n",
    "chord_df = chord_df.loc[chord_df['Common Names'] != 'unison']"
   ]
  },
  {
   "cell_type": "code",
   "execution_count": 10,
   "metadata": {
    "kernel": "Python 3",
    "scrolled": true
   },
   "outputs": [],
   "source": [
    "# Read in the worklist\n",
    "workList = pd.read_csv('workList.csv')"
   ]
  },
  {
   "cell_type": "code",
   "execution_count": 11,
   "metadata": {
    "kernel": "Python 3"
   },
   "outputs": [],
   "source": [
    "# Merge the chord and piece information into a single data frame.\n",
    "full_chord_Info=pd.merge(chord_df,workList,how='outer',on='File')"
   ]
  },
  {
   "cell_type": "code",
   "execution_count": 12,
   "metadata": {
    "kernel": "Python 3",
    "scrolled": false
   },
   "outputs": [
    {
     "data": {
      "text/plain": [
       "Index(['Chord', 'offset', 'File', 'Norm', 'Common Names', 'Contains 7th',\n",
       "       'Unnamed: 0', 'pieceName', 'movementName', 'genre', 'Composer',\n",
       "       'publicationYear', 'Epoch', 'Source', 'fileFormat', 'phraseAnalysis',\n",
       "       'fileConversion', 'getChords'],\n",
       "      dtype='object')"
      ]
     },
     "execution_count": 12,
     "metadata": {},
     "output_type": "execute_result"
    }
   ],
   "source": [
    "full_chord_Info.columns"
   ]
  },
  {
   "cell_type": "code",
   "execution_count": 13,
   "metadata": {
    "kernel": "Python 3"
   },
   "outputs": [],
   "source": [
    "# Get rid of the columns we don't care about for this analysis\n",
    "less_chord_Info = full_chord_Info.drop(['Source', 'fileFormat', 'phraseAnalysis', 'fileConversion', 'getChords'], axis=1)"
   ]
  },
  {
   "cell_type": "code",
   "execution_count": 14,
   "metadata": {
    "kernel": "Python 3"
   },
   "outputs": [
    {
     "data": {
      "text/html": [
       "<div>\n",
       "<style scoped>\n",
       "    .dataframe tbody tr th:only-of-type {\n",
       "        vertical-align: middle;\n",
       "    }\n",
       "\n",
       "    .dataframe tbody tr th {\n",
       "        vertical-align: top;\n",
       "    }\n",
       "\n",
       "    .dataframe thead th {\n",
       "        text-align: right;\n",
       "    }\n",
       "</style>\n",
       "<table border=\"1\" class=\"dataframe\">\n",
       "  <thead>\n",
       "    <tr style=\"text-align: right;\">\n",
       "      <th></th>\n",
       "      <th>Chord</th>\n",
       "      <th>offset</th>\n",
       "      <th>File</th>\n",
       "      <th>Norm</th>\n",
       "      <th>Common Names</th>\n",
       "      <th>Contains 7th</th>\n",
       "      <th>Unnamed: 0</th>\n",
       "      <th>pieceName</th>\n",
       "      <th>movementName</th>\n",
       "      <th>genre</th>\n",
       "      <th>Composer</th>\n",
       "      <th>publicationYear</th>\n",
       "      <th>Epoch</th>\n",
       "    </tr>\n",
       "  </thead>\n",
       "  <tbody>\n",
       "    <tr>\n",
       "      <th>0</th>\n",
       "      <td>[&lt;music21.note.Note G#&gt;, &lt;music21.note.Note E&gt;]</td>\n",
       "      <td>9.0</td>\n",
       "      <td>AlariodelRio_Sol_Sostenido.xml</td>\n",
       "      <td>[0, 4]</td>\n",
       "      <td>Minor Twentieth</td>\n",
       "      <td>False</td>\n",
       "      <td>piece36</td>\n",
       "      <td>Piano Piece No8</td>\n",
       "      <td>Op7 No2</td>\n",
       "      <td>OtherSolo</td>\n",
       "      <td>AlariodelRio</td>\n",
       "      <td>2013.0</td>\n",
       "      <td>1970-2020</td>\n",
       "    </tr>\n",
       "    <tr>\n",
       "      <th>1</th>\n",
       "      <td>[&lt;music21.note.Note G#&gt;, &lt;music21.note.Note E&gt;]</td>\n",
       "      <td>10.0</td>\n",
       "      <td>AlariodelRio_Sol_Sostenido.xml</td>\n",
       "      <td>[0, 4]</td>\n",
       "      <td>Minor Thirteenth</td>\n",
       "      <td>False</td>\n",
       "      <td>piece36</td>\n",
       "      <td>Piano Piece No8</td>\n",
       "      <td>Op7 No2</td>\n",
       "      <td>OtherSolo</td>\n",
       "      <td>AlariodelRio</td>\n",
       "      <td>2013.0</td>\n",
       "      <td>1970-2020</td>\n",
       "    </tr>\n",
       "    <tr>\n",
       "      <th>2</th>\n",
       "      <td>[&lt;music21.note.Note F#&gt;, &lt;music21.note.Note E&gt;]</td>\n",
       "      <td>11.0</td>\n",
       "      <td>AlariodelRio_Sol_Sostenido.xml</td>\n",
       "      <td>[0, 2]</td>\n",
       "      <td>Minor Fourteenth</td>\n",
       "      <td>False</td>\n",
       "      <td>piece36</td>\n",
       "      <td>Piano Piece No8</td>\n",
       "      <td>Op7 No2</td>\n",
       "      <td>OtherSolo</td>\n",
       "      <td>AlariodelRio</td>\n",
       "      <td>2013.0</td>\n",
       "      <td>1970-2020</td>\n",
       "    </tr>\n",
       "    <tr>\n",
       "      <th>3</th>\n",
       "      <td>[&lt;music21.note.Note F#&gt;, &lt;music21.note.Note E&gt;]</td>\n",
       "      <td>14.0</td>\n",
       "      <td>AlariodelRio_Sol_Sostenido.xml</td>\n",
       "      <td>[0, 2]</td>\n",
       "      <td>Minor Fourteenth</td>\n",
       "      <td>False</td>\n",
       "      <td>piece36</td>\n",
       "      <td>Piano Piece No8</td>\n",
       "      <td>Op7 No2</td>\n",
       "      <td>OtherSolo</td>\n",
       "      <td>AlariodelRio</td>\n",
       "      <td>2013.0</td>\n",
       "      <td>1970-2020</td>\n",
       "    </tr>\n",
       "    <tr>\n",
       "      <th>4</th>\n",
       "      <td>[&lt;music21.note.Note C#&gt;, &lt;music21.note.Note E&gt;]</td>\n",
       "      <td>15.0</td>\n",
       "      <td>AlariodelRio_Sol_Sostenido.xml</td>\n",
       "      <td>[0, 3]</td>\n",
       "      <td>Minor Seventeenth</td>\n",
       "      <td>False</td>\n",
       "      <td>piece36</td>\n",
       "      <td>Piano Piece No8</td>\n",
       "      <td>Op7 No2</td>\n",
       "      <td>OtherSolo</td>\n",
       "      <td>AlariodelRio</td>\n",
       "      <td>2013.0</td>\n",
       "      <td>1970-2020</td>\n",
       "    </tr>\n",
       "    <tr>\n",
       "      <th>...</th>\n",
       "      <td>...</td>\n",
       "      <td>...</td>\n",
       "      <td>...</td>\n",
       "      <td>...</td>\n",
       "      <td>...</td>\n",
       "      <td>...</td>\n",
       "      <td>...</td>\n",
       "      <td>...</td>\n",
       "      <td>...</td>\n",
       "      <td>...</td>\n",
       "      <td>...</td>\n",
       "      <td>...</td>\n",
       "      <td>...</td>\n",
       "    </tr>\n",
       "    <tr>\n",
       "      <th>8206</th>\n",
       "      <td>NaN</td>\n",
       "      <td>NaN</td>\n",
       "      <td>Ogives No3 D minor.mid</td>\n",
       "      <td>NaN</td>\n",
       "      <td>NaN</td>\n",
       "      <td>NaN</td>\n",
       "      <td>piece19</td>\n",
       "      <td>Ogives</td>\n",
       "      <td>No3 D minor</td>\n",
       "      <td>OtherSolo</td>\n",
       "      <td>Satie</td>\n",
       "      <td>1885.0</td>\n",
       "      <td>1870-1919</td>\n",
       "    </tr>\n",
       "    <tr>\n",
       "      <th>8207</th>\n",
       "      <td>NaN</td>\n",
       "      <td>NaN</td>\n",
       "      <td>Pianoflage in C major.mid</td>\n",
       "      <td>NaN</td>\n",
       "      <td>NaN</td>\n",
       "      <td>NaN</td>\n",
       "      <td>piece21</td>\n",
       "      <td>Pianoflage C Major</td>\n",
       "      <td>NaN</td>\n",
       "      <td>OtherSolo</td>\n",
       "      <td>Bargy</td>\n",
       "      <td>1922.0</td>\n",
       "      <td>1920-1969</td>\n",
       "    </tr>\n",
       "    <tr>\n",
       "      <th>8208</th>\n",
       "      <td>NaN</td>\n",
       "      <td>NaN</td>\n",
       "      <td>Studies No7 F major.mid</td>\n",
       "      <td>NaN</td>\n",
       "      <td>NaN</td>\n",
       "      <td>NaN</td>\n",
       "      <td>piece22</td>\n",
       "      <td>Studies</td>\n",
       "      <td>No7 F Major</td>\n",
       "      <td>Etude</td>\n",
       "      <td>DAragona</td>\n",
       "      <td>1923.0</td>\n",
       "      <td>1920-1969</td>\n",
       "    </tr>\n",
       "    <tr>\n",
       "      <th>8209</th>\n",
       "      <td>NaN</td>\n",
       "      <td>NaN</td>\n",
       "      <td>Carbajo_Yellow_Saraband.xml</td>\n",
       "      <td>NaN</td>\n",
       "      <td>NaN</td>\n",
       "      <td>NaN</td>\n",
       "      <td>piece31</td>\n",
       "      <td>Yellow Saraband</td>\n",
       "      <td>NaN</td>\n",
       "      <td>OtherSolo</td>\n",
       "      <td>Carbajo</td>\n",
       "      <td>2015.0</td>\n",
       "      <td>1970-2020</td>\n",
       "    </tr>\n",
       "    <tr>\n",
       "      <th>8210</th>\n",
       "      <td>NaN</td>\n",
       "      <td>NaN</td>\n",
       "      <td>Sculthorpe_Sea_Chant.mxl</td>\n",
       "      <td>NaN</td>\n",
       "      <td>NaN</td>\n",
       "      <td>NaN</td>\n",
       "      <td>piece40</td>\n",
       "      <td>Two Easy Pieces No1</td>\n",
       "      <td>Sea Chant</td>\n",
       "      <td>OtherSolo</td>\n",
       "      <td>Sculthorpe</td>\n",
       "      <td>1970.0</td>\n",
       "      <td>1970-2020</td>\n",
       "    </tr>\n",
       "  </tbody>\n",
       "</table>\n",
       "<p>8211 rows × 13 columns</p>\n",
       "</div>"
      ],
      "text/plain": [
       "                                                Chord  offset  \\\n",
       "0     [<music21.note.Note G#>, <music21.note.Note E>]     9.0   \n",
       "1     [<music21.note.Note G#>, <music21.note.Note E>]    10.0   \n",
       "2     [<music21.note.Note F#>, <music21.note.Note E>]    11.0   \n",
       "3     [<music21.note.Note F#>, <music21.note.Note E>]    14.0   \n",
       "4     [<music21.note.Note C#>, <music21.note.Note E>]    15.0   \n",
       "...                                               ...     ...   \n",
       "8206                                              NaN     NaN   \n",
       "8207                                              NaN     NaN   \n",
       "8208                                              NaN     NaN   \n",
       "8209                                              NaN     NaN   \n",
       "8210                                              NaN     NaN   \n",
       "\n",
       "                                File    Norm       Common Names Contains 7th  \\\n",
       "0     AlariodelRio_Sol_Sostenido.xml  [0, 4]    Minor Twentieth        False   \n",
       "1     AlariodelRio_Sol_Sostenido.xml  [0, 4]   Minor Thirteenth        False   \n",
       "2     AlariodelRio_Sol_Sostenido.xml  [0, 2]   Minor Fourteenth        False   \n",
       "3     AlariodelRio_Sol_Sostenido.xml  [0, 2]   Minor Fourteenth        False   \n",
       "4     AlariodelRio_Sol_Sostenido.xml  [0, 3]  Minor Seventeenth        False   \n",
       "...                              ...     ...                ...          ...   \n",
       "8206         Ogives No3 D minor.mid      NaN                NaN          NaN   \n",
       "8207      Pianoflage in C major.mid      NaN                NaN          NaN   \n",
       "8208        Studies No7 F major.mid      NaN                NaN          NaN   \n",
       "8209    Carbajo_Yellow_Saraband.xml      NaN                NaN          NaN   \n",
       "8210       Sculthorpe_Sea_Chant.mxl      NaN                NaN          NaN   \n",
       "\n",
       "     Unnamed: 0            pieceName movementName      genre      Composer  \\\n",
       "0       piece36      Piano Piece No8      Op7 No2  OtherSolo  AlariodelRio   \n",
       "1       piece36      Piano Piece No8      Op7 No2  OtherSolo  AlariodelRio   \n",
       "2       piece36      Piano Piece No8      Op7 No2  OtherSolo  AlariodelRio   \n",
       "3       piece36      Piano Piece No8      Op7 No2  OtherSolo  AlariodelRio   \n",
       "4       piece36      Piano Piece No8      Op7 No2  OtherSolo  AlariodelRio   \n",
       "...         ...                  ...          ...        ...           ...   \n",
       "8206    piece19               Ogives  No3 D minor  OtherSolo         Satie   \n",
       "8207    piece21   Pianoflage C Major          NaN  OtherSolo         Bargy   \n",
       "8208    piece22              Studies  No7 F Major      Etude      DAragona   \n",
       "8209    piece31      Yellow Saraband          NaN  OtherSolo       Carbajo   \n",
       "8210    piece40  Two Easy Pieces No1    Sea Chant  OtherSolo    Sculthorpe   \n",
       "\n",
       "      publicationYear      Epoch  \n",
       "0              2013.0  1970-2020  \n",
       "1              2013.0  1970-2020  \n",
       "2              2013.0  1970-2020  \n",
       "3              2013.0  1970-2020  \n",
       "4              2013.0  1970-2020  \n",
       "...               ...        ...  \n",
       "8206           1885.0  1870-1919  \n",
       "8207           1922.0  1920-1969  \n",
       "8208           1923.0  1920-1969  \n",
       "8209           2015.0  1970-2020  \n",
       "8210           1970.0  1970-2020  \n",
       "\n",
       "[8211 rows x 13 columns]"
      ]
     },
     "execution_count": 14,
     "metadata": {},
     "output_type": "execute_result"
    }
   ],
   "source": [
    "less_chord_Info"
   ]
  },
  {
   "cell_type": "code",
   "execution_count": 15,
   "metadata": {
    "kernel": "Python 3"
   },
   "outputs": [],
   "source": [
    "# Checks whether a chord is an extended chord based on the normal form representation\n",
    "def isExtendedChord(c):\n",
    "    nonExtendeds = ['[0, 3]', '[0, 4]', '[0, 5]', '[0, 6]', '[0, 3, 6]', '[0, 4, 7]', '[0, 3, 7]', '[0, 4, 8]']\n",
    "    if c in nonExtendeds:\n",
    "        return 'Not Extended Chord'\n",
    "    else:\n",
    "        return 'Extended Chord'"
   ]
  },
  {
   "cell_type": "code",
   "execution_count": 16,
   "metadata": {
    "kernel": "Python 3"
   },
   "outputs": [],
   "source": [
    "less_chord_Info['isExtended'] = full_chord_Info['Norm'].apply(isExtendedChord)"
   ]
  },
  {
   "cell_type": "code",
   "execution_count": 17,
   "metadata": {
    "kernel": "Python 3"
   },
   "outputs": [
    {
     "data": {
      "text/html": [
       "<div>\n",
       "<style scoped>\n",
       "    .dataframe tbody tr th:only-of-type {\n",
       "        vertical-align: middle;\n",
       "    }\n",
       "\n",
       "    .dataframe tbody tr th {\n",
       "        vertical-align: top;\n",
       "    }\n",
       "\n",
       "    .dataframe thead th {\n",
       "        text-align: right;\n",
       "    }\n",
       "</style>\n",
       "<table border=\"1\" class=\"dataframe\">\n",
       "  <thead>\n",
       "    <tr style=\"text-align: right;\">\n",
       "      <th></th>\n",
       "      <th>Chord</th>\n",
       "      <th>offset</th>\n",
       "      <th>File</th>\n",
       "      <th>Norm</th>\n",
       "      <th>Common Names</th>\n",
       "      <th>Contains 7th</th>\n",
       "      <th>Unnamed: 0</th>\n",
       "      <th>pieceName</th>\n",
       "      <th>movementName</th>\n",
       "      <th>genre</th>\n",
       "      <th>Composer</th>\n",
       "      <th>publicationYear</th>\n",
       "      <th>Epoch</th>\n",
       "      <th>isExtended</th>\n",
       "    </tr>\n",
       "  </thead>\n",
       "  <tbody>\n",
       "    <tr>\n",
       "      <th>0</th>\n",
       "      <td>[&lt;music21.note.Note G#&gt;, &lt;music21.note.Note E&gt;]</td>\n",
       "      <td>9.0</td>\n",
       "      <td>AlariodelRio_Sol_Sostenido.xml</td>\n",
       "      <td>[0, 4]</td>\n",
       "      <td>Minor Twentieth</td>\n",
       "      <td>False</td>\n",
       "      <td>piece36</td>\n",
       "      <td>Piano Piece No8</td>\n",
       "      <td>Op7 No2</td>\n",
       "      <td>OtherSolo</td>\n",
       "      <td>AlariodelRio</td>\n",
       "      <td>2013.0</td>\n",
       "      <td>1970-2020</td>\n",
       "      <td>Not Extended Chord</td>\n",
       "    </tr>\n",
       "    <tr>\n",
       "      <th>1</th>\n",
       "      <td>[&lt;music21.note.Note G#&gt;, &lt;music21.note.Note E&gt;]</td>\n",
       "      <td>10.0</td>\n",
       "      <td>AlariodelRio_Sol_Sostenido.xml</td>\n",
       "      <td>[0, 4]</td>\n",
       "      <td>Minor Thirteenth</td>\n",
       "      <td>False</td>\n",
       "      <td>piece36</td>\n",
       "      <td>Piano Piece No8</td>\n",
       "      <td>Op7 No2</td>\n",
       "      <td>OtherSolo</td>\n",
       "      <td>AlariodelRio</td>\n",
       "      <td>2013.0</td>\n",
       "      <td>1970-2020</td>\n",
       "      <td>Not Extended Chord</td>\n",
       "    </tr>\n",
       "    <tr>\n",
       "      <th>2</th>\n",
       "      <td>[&lt;music21.note.Note F#&gt;, &lt;music21.note.Note E&gt;]</td>\n",
       "      <td>11.0</td>\n",
       "      <td>AlariodelRio_Sol_Sostenido.xml</td>\n",
       "      <td>[0, 2]</td>\n",
       "      <td>Minor Fourteenth</td>\n",
       "      <td>False</td>\n",
       "      <td>piece36</td>\n",
       "      <td>Piano Piece No8</td>\n",
       "      <td>Op7 No2</td>\n",
       "      <td>OtherSolo</td>\n",
       "      <td>AlariodelRio</td>\n",
       "      <td>2013.0</td>\n",
       "      <td>1970-2020</td>\n",
       "      <td>Extended Chord</td>\n",
       "    </tr>\n",
       "    <tr>\n",
       "      <th>3</th>\n",
       "      <td>[&lt;music21.note.Note F#&gt;, &lt;music21.note.Note E&gt;]</td>\n",
       "      <td>14.0</td>\n",
       "      <td>AlariodelRio_Sol_Sostenido.xml</td>\n",
       "      <td>[0, 2]</td>\n",
       "      <td>Minor Fourteenth</td>\n",
       "      <td>False</td>\n",
       "      <td>piece36</td>\n",
       "      <td>Piano Piece No8</td>\n",
       "      <td>Op7 No2</td>\n",
       "      <td>OtherSolo</td>\n",
       "      <td>AlariodelRio</td>\n",
       "      <td>2013.0</td>\n",
       "      <td>1970-2020</td>\n",
       "      <td>Extended Chord</td>\n",
       "    </tr>\n",
       "    <tr>\n",
       "      <th>4</th>\n",
       "      <td>[&lt;music21.note.Note C#&gt;, &lt;music21.note.Note E&gt;]</td>\n",
       "      <td>15.0</td>\n",
       "      <td>AlariodelRio_Sol_Sostenido.xml</td>\n",
       "      <td>[0, 3]</td>\n",
       "      <td>Minor Seventeenth</td>\n",
       "      <td>False</td>\n",
       "      <td>piece36</td>\n",
       "      <td>Piano Piece No8</td>\n",
       "      <td>Op7 No2</td>\n",
       "      <td>OtherSolo</td>\n",
       "      <td>AlariodelRio</td>\n",
       "      <td>2013.0</td>\n",
       "      <td>1970-2020</td>\n",
       "      <td>Not Extended Chord</td>\n",
       "    </tr>\n",
       "    <tr>\n",
       "      <th>...</th>\n",
       "      <td>...</td>\n",
       "      <td>...</td>\n",
       "      <td>...</td>\n",
       "      <td>...</td>\n",
       "      <td>...</td>\n",
       "      <td>...</td>\n",
       "      <td>...</td>\n",
       "      <td>...</td>\n",
       "      <td>...</td>\n",
       "      <td>...</td>\n",
       "      <td>...</td>\n",
       "      <td>...</td>\n",
       "      <td>...</td>\n",
       "      <td>...</td>\n",
       "    </tr>\n",
       "    <tr>\n",
       "      <th>8206</th>\n",
       "      <td>NaN</td>\n",
       "      <td>NaN</td>\n",
       "      <td>Ogives No3 D minor.mid</td>\n",
       "      <td>NaN</td>\n",
       "      <td>NaN</td>\n",
       "      <td>NaN</td>\n",
       "      <td>piece19</td>\n",
       "      <td>Ogives</td>\n",
       "      <td>No3 D minor</td>\n",
       "      <td>OtherSolo</td>\n",
       "      <td>Satie</td>\n",
       "      <td>1885.0</td>\n",
       "      <td>1870-1919</td>\n",
       "      <td>Extended Chord</td>\n",
       "    </tr>\n",
       "    <tr>\n",
       "      <th>8207</th>\n",
       "      <td>NaN</td>\n",
       "      <td>NaN</td>\n",
       "      <td>Pianoflage in C major.mid</td>\n",
       "      <td>NaN</td>\n",
       "      <td>NaN</td>\n",
       "      <td>NaN</td>\n",
       "      <td>piece21</td>\n",
       "      <td>Pianoflage C Major</td>\n",
       "      <td>NaN</td>\n",
       "      <td>OtherSolo</td>\n",
       "      <td>Bargy</td>\n",
       "      <td>1922.0</td>\n",
       "      <td>1920-1969</td>\n",
       "      <td>Extended Chord</td>\n",
       "    </tr>\n",
       "    <tr>\n",
       "      <th>8208</th>\n",
       "      <td>NaN</td>\n",
       "      <td>NaN</td>\n",
       "      <td>Studies No7 F major.mid</td>\n",
       "      <td>NaN</td>\n",
       "      <td>NaN</td>\n",
       "      <td>NaN</td>\n",
       "      <td>piece22</td>\n",
       "      <td>Studies</td>\n",
       "      <td>No7 F Major</td>\n",
       "      <td>Etude</td>\n",
       "      <td>DAragona</td>\n",
       "      <td>1923.0</td>\n",
       "      <td>1920-1969</td>\n",
       "      <td>Extended Chord</td>\n",
       "    </tr>\n",
       "    <tr>\n",
       "      <th>8209</th>\n",
       "      <td>NaN</td>\n",
       "      <td>NaN</td>\n",
       "      <td>Carbajo_Yellow_Saraband.xml</td>\n",
       "      <td>NaN</td>\n",
       "      <td>NaN</td>\n",
       "      <td>NaN</td>\n",
       "      <td>piece31</td>\n",
       "      <td>Yellow Saraband</td>\n",
       "      <td>NaN</td>\n",
       "      <td>OtherSolo</td>\n",
       "      <td>Carbajo</td>\n",
       "      <td>2015.0</td>\n",
       "      <td>1970-2020</td>\n",
       "      <td>Extended Chord</td>\n",
       "    </tr>\n",
       "    <tr>\n",
       "      <th>8210</th>\n",
       "      <td>NaN</td>\n",
       "      <td>NaN</td>\n",
       "      <td>Sculthorpe_Sea_Chant.mxl</td>\n",
       "      <td>NaN</td>\n",
       "      <td>NaN</td>\n",
       "      <td>NaN</td>\n",
       "      <td>piece40</td>\n",
       "      <td>Two Easy Pieces No1</td>\n",
       "      <td>Sea Chant</td>\n",
       "      <td>OtherSolo</td>\n",
       "      <td>Sculthorpe</td>\n",
       "      <td>1970.0</td>\n",
       "      <td>1970-2020</td>\n",
       "      <td>Extended Chord</td>\n",
       "    </tr>\n",
       "  </tbody>\n",
       "</table>\n",
       "<p>8211 rows × 14 columns</p>\n",
       "</div>"
      ],
      "text/plain": [
       "                                                Chord  offset  \\\n",
       "0     [<music21.note.Note G#>, <music21.note.Note E>]     9.0   \n",
       "1     [<music21.note.Note G#>, <music21.note.Note E>]    10.0   \n",
       "2     [<music21.note.Note F#>, <music21.note.Note E>]    11.0   \n",
       "3     [<music21.note.Note F#>, <music21.note.Note E>]    14.0   \n",
       "4     [<music21.note.Note C#>, <music21.note.Note E>]    15.0   \n",
       "...                                               ...     ...   \n",
       "8206                                              NaN     NaN   \n",
       "8207                                              NaN     NaN   \n",
       "8208                                              NaN     NaN   \n",
       "8209                                              NaN     NaN   \n",
       "8210                                              NaN     NaN   \n",
       "\n",
       "                                File    Norm       Common Names Contains 7th  \\\n",
       "0     AlariodelRio_Sol_Sostenido.xml  [0, 4]    Minor Twentieth        False   \n",
       "1     AlariodelRio_Sol_Sostenido.xml  [0, 4]   Minor Thirteenth        False   \n",
       "2     AlariodelRio_Sol_Sostenido.xml  [0, 2]   Minor Fourteenth        False   \n",
       "3     AlariodelRio_Sol_Sostenido.xml  [0, 2]   Minor Fourteenth        False   \n",
       "4     AlariodelRio_Sol_Sostenido.xml  [0, 3]  Minor Seventeenth        False   \n",
       "...                              ...     ...                ...          ...   \n",
       "8206         Ogives No3 D minor.mid      NaN                NaN          NaN   \n",
       "8207      Pianoflage in C major.mid      NaN                NaN          NaN   \n",
       "8208        Studies No7 F major.mid      NaN                NaN          NaN   \n",
       "8209    Carbajo_Yellow_Saraband.xml      NaN                NaN          NaN   \n",
       "8210       Sculthorpe_Sea_Chant.mxl      NaN                NaN          NaN   \n",
       "\n",
       "     Unnamed: 0            pieceName movementName      genre      Composer  \\\n",
       "0       piece36      Piano Piece No8      Op7 No2  OtherSolo  AlariodelRio   \n",
       "1       piece36      Piano Piece No8      Op7 No2  OtherSolo  AlariodelRio   \n",
       "2       piece36      Piano Piece No8      Op7 No2  OtherSolo  AlariodelRio   \n",
       "3       piece36      Piano Piece No8      Op7 No2  OtherSolo  AlariodelRio   \n",
       "4       piece36      Piano Piece No8      Op7 No2  OtherSolo  AlariodelRio   \n",
       "...         ...                  ...          ...        ...           ...   \n",
       "8206    piece19               Ogives  No3 D minor  OtherSolo         Satie   \n",
       "8207    piece21   Pianoflage C Major          NaN  OtherSolo         Bargy   \n",
       "8208    piece22              Studies  No7 F Major      Etude      DAragona   \n",
       "8209    piece31      Yellow Saraband          NaN  OtherSolo       Carbajo   \n",
       "8210    piece40  Two Easy Pieces No1    Sea Chant  OtherSolo    Sculthorpe   \n",
       "\n",
       "      publicationYear      Epoch          isExtended  \n",
       "0              2013.0  1970-2020  Not Extended Chord  \n",
       "1              2013.0  1970-2020  Not Extended Chord  \n",
       "2              2013.0  1970-2020      Extended Chord  \n",
       "3              2013.0  1970-2020      Extended Chord  \n",
       "4              2013.0  1970-2020  Not Extended Chord  \n",
       "...               ...        ...                 ...  \n",
       "8206           1885.0  1870-1919      Extended Chord  \n",
       "8207           1922.0  1920-1969      Extended Chord  \n",
       "8208           1923.0  1920-1969      Extended Chord  \n",
       "8209           2015.0  1970-2020      Extended Chord  \n",
       "8210           1970.0  1970-2020      Extended Chord  \n",
       "\n",
       "[8211 rows x 14 columns]"
      ]
     },
     "execution_count": 17,
     "metadata": {},
     "output_type": "execute_result"
    }
   ],
   "source": [
    "less_chord_Info"
   ]
  },
  {
   "cell_type": "code",
   "execution_count": 18,
   "metadata": {
    "kernel": "Python 3"
   },
   "outputs": [],
   "source": [
    "raw_extendeds = less_chord_Info['isExtended'].value_counts()"
   ]
  },
  {
   "cell_type": "code",
   "execution_count": 22,
   "metadata": {
    "kernel": "Python 3"
   },
   "outputs": [
    {
     "data": {
      "image/png": "[encoded data removed]",
      "text/plain": [
       "<Figure size 576x576 with 1 Axes>"
      ]
     },
     "metadata": {
      "image/png": {
       "height": 464,
       "width": 462
      }
     },
     "output_type": "display_data"
    }
   ],
   "source": [
    "# Plot distribution of chord types\n",
    "piePlot = raw_extendeds.plot(kind='pie', figsize=(8,8), title='Extended Chords Pie Chart - Entire Corpus')"
   ]
  },
  {
   "cell_type": "code",
   "execution_count": 25,
   "metadata": {
    "kernel": "Python 3",
    "scrolled": true
   },
   "outputs": [
    {
     "data": {
      "image/png": "[encoded data removed]",
      "text/plain": [
       "<Figure size 432x288 with 1 Axes>"
      ]
     },
     "metadata": {
      "image/png": {
       "height": 355,
       "width": 395
      },
      "needs_background": "light"
     },
     "output_type": "display_data"
    }
   ],
   "source": [
    "barPlot = raw_extendeds.plot(kind='bar', title='Extended Chords Bar Graph - Entire Corpus', ylabel='Counts')"
   ]
  },
  {
   "cell_type": "code",
   "execution_count": 42,
   "metadata": {
    "kernel": "Python 3"
   },
   "outputs": [],
   "source": [
    "by_epoch = less_chord_Info.groupby(by='Epoch')\n",
    "values = by_epoch['isExtended'].value_counts()"
   ]
  },
  {
   "cell_type": "code",
   "execution_count": 47,
   "metadata": {
    "kernel": "Python 3"
   },
   "outputs": [
    {
     "data": {
      "text/plain": [
       "<AxesSubplot:title={'center':'Extended Chords Bar Graph - By Epoch'}, ylabel='Counts'>"
      ]
     },
     "execution_count": 47,
     "metadata": {},
     "output_type": "execute_result"
    },
    {
     "data": {
      "image/png": "[encoded data removed]",
      "text/plain": [
       "<Figure size 432x288 with 1 Axes>"
      ]
     },
     "metadata": {
      "image/png": {
       "height": 308,
       "width": 395
      },
      "needs_background": "light"
     },
     "output_type": "display_data"
    }
   ],
   "source": [
    "#Reorganize the dataframe for easy graphing\n",
    "non_extended = []\n",
    "extended = []\n",
    "index = ['1820-1869', '1870-1919', '1920-1969', '1970-2020']\n",
    "for i in range(len(values)):\n",
    "    if i % 2 == 0:\n",
    "        non_extended.append(values[i])\n",
    "    else:\n",
    "        extended.append(values[i])\n",
    "new_epochdf = pd.DataFrame({'Not Extended Chord': non_extended, 'Extended Chord': extended}, index=index)\n",
    "new_epochdf.plot(kind='bar', title='Extended Chords Bar Graph - By Epoch', ylabel='Counts')"
   ]
  },
  {
   "cell_type": "code",
   "execution_count": null,
   "metadata": {
    "kernel": "SoS"
   },
   "outputs": [],
   "source": [
    "# Notes from after class - 11/9/20\n",
    "# chord changes only occur when root note changes\n",
    "# There are only chord changes when the root changes???\n",
    "# e.g. if >75% of notes are the same, then doesn't count as a chord change\n",
    "# filter out everything with < 3 pitch classes"
   ]
  }
 ],
 "metadata": {
  "kernelspec": {
   "display_name": "Python 3",
   "language": "python",
   "name": "python3"
  },
  "language_info": {
   "codemirror_mode": {
    "name": "ipython",
    "version": 3
   },
   "file_extension": ".py",
   "mimetype": "text/x-python",
   "name": "python",
   "nbconvert_exporter": "python",
   "pygments_lexer": "ipython3",
   "version": "3.7.4"
  },
  "sos": {
   "kernels": [
    [
     "Python 3",
     "python3",
     "python3",
     "",
     ""
    ],
    [
     "SoS",
     "sos",
     "",
     "",
     "sos"
    ]
   ],
   "panel": {
    "displayed": true,
    "height": 0
   },
   "version": "0.21.18"
  }
 },
 "nbformat": 4,
 "nbformat_minor": 4
}
