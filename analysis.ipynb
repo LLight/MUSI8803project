{
 "cells": [
  {
   "cell_type": "code",
   "execution_count": 1,
   "metadata": {
    "kernel": "Python 3"
   },
   "outputs": [],
   "source": [
    "from music21 import *\n",
    "import pandas as pd\n",
    "import os\n",
    "import re\n",
    "import matplotlib.pyplot as plt\n",
    "import numpy as np\n",
    "import math"
   ]
  },
  {
   "cell_type": "code",
   "execution_count": 2,
   "metadata": {
    "kernel": "Python 3"
   },
   "outputs": [
    {
     "data": {
      "text/plain": [
       "Index(['Unnamed: 0', 'Chord', 'Composer', 'File', 'NormalForm', 'Offset',\n",
       "       'PCsInNormalForm', 'beatNumber', 'measureNumber', 'pieceNumber',\n",
       "       'pieceName', 'movementName', 'genre', 'publicationYear', 'Epoch',\n",
       "       'Source', 'fileFormat', 'phraseAnalysis', 'fileConversion',\n",
       "       'getChords'],\n",
       "      dtype='object')"
      ]
     },
     "execution_count": 2,
     "metadata": {},
     "output_type": "execute_result"
    }
   ],
   "source": [
    "# Get the analytic dataset into a pandas dataframe\n",
    "\n",
    "dataset = pd.read_csv('analyticDataset.csv')\n",
    "dataset.columns"
   ]
  },
  {
   "cell_type": "code",
   "execution_count": 4,
   "metadata": {
    "scrolled": true
   },
   "outputs": [
    {
     "data": {
      "text/html": [
       "<div>\n",
       "<style scoped>\n",
       "    .dataframe tbody tr th:only-of-type {\n",
       "        vertical-align: middle;\n",
       "    }\n",
       "\n",
       "    .dataframe tbody tr th {\n",
       "        vertical-align: top;\n",
       "    }\n",
       "\n",
       "    .dataframe thead th {\n",
       "        text-align: right;\n",
       "    }\n",
       "</style>\n",
       "<table border=\"1\" class=\"dataframe\">\n",
       "  <thead>\n",
       "    <tr style=\"text-align: right;\">\n",
       "      <th></th>\n",
       "      <th>Unnamed: 0</th>\n",
       "      <th>Chord</th>\n",
       "      <th>Composer</th>\n",
       "      <th>File</th>\n",
       "      <th>NormalForm</th>\n",
       "      <th>Offset</th>\n",
       "      <th>PCsInNormalForm</th>\n",
       "      <th>beatNumber</th>\n",
       "      <th>measureNumber</th>\n",
       "      <th>pieceNumber</th>\n",
       "      <th>pieceName</th>\n",
       "      <th>movementName</th>\n",
       "      <th>genre</th>\n",
       "      <th>publicationYear</th>\n",
       "      <th>Epoch</th>\n",
       "      <th>Source</th>\n",
       "      <th>fileFormat</th>\n",
       "      <th>phraseAnalysis</th>\n",
       "      <th>fileConversion</th>\n",
       "      <th>getChords</th>\n",
       "    </tr>\n",
       "  </thead>\n",
       "  <tbody>\n",
       "    <tr>\n",
       "      <td>0</td>\n",
       "      <td>0</td>\n",
       "      <td>&lt;music21.chord.Chord E3&gt;</td>\n",
       "      <td>AlariodelRio</td>\n",
       "      <td>AlariodelRio_Sol_Sostenido.xml</td>\n",
       "      <td>[0]</td>\n",
       "      <td>0.0</td>\n",
       "      <td>[4]</td>\n",
       "      <td>1.0</td>\n",
       "      <td>1.0</td>\n",
       "      <td>piece36</td>\n",
       "      <td>Piano Piece No8</td>\n",
       "      <td>Op7 No2</td>\n",
       "      <td>OtherSolo</td>\n",
       "      <td>2013</td>\n",
       "      <td>1970-2020</td>\n",
       "      <td>IMSLP</td>\n",
       "      <td>PDF</td>\n",
       "      <td>N</td>\n",
       "      <td>Y</td>\n",
       "      <td>Y</td>\n",
       "    </tr>\n",
       "    <tr>\n",
       "      <td>1</td>\n",
       "      <td>1</td>\n",
       "      <td>&lt;music21.chord.Chord A#3&gt;</td>\n",
       "      <td>AlariodelRio</td>\n",
       "      <td>AlariodelRio_Sol_Sostenido.xml</td>\n",
       "      <td>[0]</td>\n",
       "      <td>0.5</td>\n",
       "      <td>[10]</td>\n",
       "      <td>1.25</td>\n",
       "      <td>1.0</td>\n",
       "      <td>piece36</td>\n",
       "      <td>Piano Piece No8</td>\n",
       "      <td>Op7 No2</td>\n",
       "      <td>OtherSolo</td>\n",
       "      <td>2013</td>\n",
       "      <td>1970-2020</td>\n",
       "      <td>IMSLP</td>\n",
       "      <td>PDF</td>\n",
       "      <td>N</td>\n",
       "      <td>Y</td>\n",
       "      <td>Y</td>\n",
       "    </tr>\n",
       "    <tr>\n",
       "      <td>2</td>\n",
       "      <td>2</td>\n",
       "      <td>&lt;music21.chord.Chord G#3&gt;</td>\n",
       "      <td>AlariodelRio</td>\n",
       "      <td>AlariodelRio_Sol_Sostenido.xml</td>\n",
       "      <td>[0]</td>\n",
       "      <td>1.0</td>\n",
       "      <td>[8]</td>\n",
       "      <td>1.5</td>\n",
       "      <td>1.0</td>\n",
       "      <td>piece36</td>\n",
       "      <td>Piano Piece No8</td>\n",
       "      <td>Op7 No2</td>\n",
       "      <td>OtherSolo</td>\n",
       "      <td>2013</td>\n",
       "      <td>1970-2020</td>\n",
       "      <td>IMSLP</td>\n",
       "      <td>PDF</td>\n",
       "      <td>N</td>\n",
       "      <td>Y</td>\n",
       "      <td>Y</td>\n",
       "    </tr>\n",
       "    <tr>\n",
       "      <td>3</td>\n",
       "      <td>3</td>\n",
       "      <td>&lt;music21.chord.Chord D#3&gt;</td>\n",
       "      <td>AlariodelRio</td>\n",
       "      <td>AlariodelRio_Sol_Sostenido.xml</td>\n",
       "      <td>[0]</td>\n",
       "      <td>1.5</td>\n",
       "      <td>[3]</td>\n",
       "      <td>1.75</td>\n",
       "      <td>1.0</td>\n",
       "      <td>piece36</td>\n",
       "      <td>Piano Piece No8</td>\n",
       "      <td>Op7 No2</td>\n",
       "      <td>OtherSolo</td>\n",
       "      <td>2013</td>\n",
       "      <td>1970-2020</td>\n",
       "      <td>IMSLP</td>\n",
       "      <td>PDF</td>\n",
       "      <td>N</td>\n",
       "      <td>Y</td>\n",
       "      <td>Y</td>\n",
       "    </tr>\n",
       "    <tr>\n",
       "      <td>4</td>\n",
       "      <td>4</td>\n",
       "      <td>&lt;music21.chord.Chord A#3&gt;</td>\n",
       "      <td>AlariodelRio</td>\n",
       "      <td>AlariodelRio_Sol_Sostenido.xml</td>\n",
       "      <td>[0]</td>\n",
       "      <td>2.0</td>\n",
       "      <td>[10]</td>\n",
       "      <td>2.0</td>\n",
       "      <td>1.0</td>\n",
       "      <td>piece36</td>\n",
       "      <td>Piano Piece No8</td>\n",
       "      <td>Op7 No2</td>\n",
       "      <td>OtherSolo</td>\n",
       "      <td>2013</td>\n",
       "      <td>1970-2020</td>\n",
       "      <td>IMSLP</td>\n",
       "      <td>PDF</td>\n",
       "      <td>N</td>\n",
       "      <td>Y</td>\n",
       "      <td>Y</td>\n",
       "    </tr>\n",
       "  </tbody>\n",
       "</table>\n",
       "</div>"
      ],
      "text/plain": [
       "   Unnamed: 0                      Chord      Composer  \\\n",
       "0           0   <music21.chord.Chord E3>  AlariodelRio   \n",
       "1           1  <music21.chord.Chord A#3>  AlariodelRio   \n",
       "2           2  <music21.chord.Chord G#3>  AlariodelRio   \n",
       "3           3  <music21.chord.Chord D#3>  AlariodelRio   \n",
       "4           4  <music21.chord.Chord A#3>  AlariodelRio   \n",
       "\n",
       "                             File NormalForm  Offset PCsInNormalForm  \\\n",
       "0  AlariodelRio_Sol_Sostenido.xml        [0]     0.0             [4]   \n",
       "1  AlariodelRio_Sol_Sostenido.xml        [0]     0.5            [10]   \n",
       "2  AlariodelRio_Sol_Sostenido.xml        [0]     1.0             [8]   \n",
       "3  AlariodelRio_Sol_Sostenido.xml        [0]     1.5             [3]   \n",
       "4  AlariodelRio_Sol_Sostenido.xml        [0]     2.0            [10]   \n",
       "\n",
       "  beatNumber  measureNumber pieceNumber        pieceName movementName  \\\n",
       "0        1.0            1.0     piece36  Piano Piece No8      Op7 No2   \n",
       "1       1.25            1.0     piece36  Piano Piece No8      Op7 No2   \n",
       "2        1.5            1.0     piece36  Piano Piece No8      Op7 No2   \n",
       "3       1.75            1.0     piece36  Piano Piece No8      Op7 No2   \n",
       "4        2.0            1.0     piece36  Piano Piece No8      Op7 No2   \n",
       "\n",
       "       genre  publicationYear      Epoch Source fileFormat phraseAnalysis  \\\n",
       "0  OtherSolo             2013  1970-2020  IMSLP        PDF              N   \n",
       "1  OtherSolo             2013  1970-2020  IMSLP        PDF              N   \n",
       "2  OtherSolo             2013  1970-2020  IMSLP        PDF              N   \n",
       "3  OtherSolo             2013  1970-2020  IMSLP        PDF              N   \n",
       "4  OtherSolo             2013  1970-2020  IMSLP        PDF              N   \n",
       "\n",
       "  fileConversion getChords  \n",
       "0              Y         Y  \n",
       "1              Y         Y  \n",
       "2              Y         Y  \n",
       "3              Y         Y  \n",
       "4              Y         Y  "
      ]
     },
     "execution_count": 4,
     "metadata": {},
     "output_type": "execute_result"
    }
   ],
   "source": [
    "dataset.head()"
   ]
  },
  {
   "cell_type": "code",
   "execution_count": 5,
   "metadata": {
    "kernel": "Python 3"
   },
   "outputs": [],
   "source": [
    "# Convert chord string from YCAC csvs back to music21 chord object\n",
    "def strToChord(chord_str):\n",
    "    patt = '\\<music21\\.chord\\.Chord ([^>]*)>'\n",
    "    notes = re.findall(patt, chord_str)\n",
    "    newChord = chord.Chord(notes[0].split())\n",
    "    return newChord"
   ]
  },
  {
   "cell_type": "code",
   "execution_count": 6,
   "metadata": {
    "kernel": "Python 3"
   },
   "outputs": [],
   "source": [
    "# Define functions to apply to dataframe columns\n",
    "def commonName(chrd):\n",
    "    return chrd.commonName\n",
    "def contains7(chrd):\n",
    "    return chrd.containsSeventh()\n",
    "def normalForm(chrd):\n",
    "    return chrd.geometricNormalForm()"
   ]
  },
  {
   "cell_type": "code",
   "execution_count": 7,
   "metadata": {
    "kernel": "Python 3",
    "scrolled": true
   },
   "outputs": [],
   "source": [
    "# Remove notes that don't fall on a downbeat\n",
    "mask = dataset['Offset'].apply(lambda x: x.is_integer())\n",
    "dataset = dataset.loc[mask]"
   ]
  },
  {
   "cell_type": "code",
   "execution_count": 8,
   "metadata": {
    "kernel": "Python 3",
    "scrolled": true
   },
   "outputs": [],
   "source": [
    "# Create columns for common name and whether the chord contains a 7th\n",
    "dataset['Chord'] = dataset['Chord'].apply(strToChord)\n",
    "dataset['Common Names'] = dataset['Chord'].apply(commonName)\n",
    "dataset['Contains 7th'] = dataset['Chord'].apply(contains7)"
   ]
  },
  {
   "cell_type": "code",
   "execution_count": 9,
   "metadata": {
    "kernel": "Python 3"
   },
   "outputs": [],
   "source": [
    "# Remove Unisons\n",
    "dataset = dataset.loc[dataset['Common Names'] != 'unison']"
   ]
  },
  {
   "cell_type": "code",
   "execution_count": 10,
   "metadata": {
    "kernel": "Python 3",
    "scrolled": false
   },
   "outputs": [
    {
     "data": {
      "text/plain": [
       "Index(['Unnamed: 0', 'Chord', 'Composer', 'File', 'NormalForm', 'Offset',\n",
       "       'PCsInNormalForm', 'beatNumber', 'measureNumber', 'pieceNumber',\n",
       "       'pieceName', 'movementName', 'genre', 'publicationYear', 'Epoch',\n",
       "       'Source', 'fileFormat', 'phraseAnalysis', 'fileConversion', 'getChords',\n",
       "       'Common Names', 'Contains 7th'],\n",
       "      dtype='object')"
      ]
     },
     "execution_count": 10,
     "metadata": {},
     "output_type": "execute_result"
    }
   ],
   "source": [
    "dataset.columns"
   ]
  },
  {
   "cell_type": "code",
   "execution_count": 14,
   "metadata": {},
   "outputs": [
    {
     "data": {
      "text/html": [
       "<div>\n",
       "<style scoped>\n",
       "    .dataframe tbody tr th:only-of-type {\n",
       "        vertical-align: middle;\n",
       "    }\n",
       "\n",
       "    .dataframe tbody tr th {\n",
       "        vertical-align: top;\n",
       "    }\n",
       "\n",
       "    .dataframe thead th {\n",
       "        text-align: right;\n",
       "    }\n",
       "</style>\n",
       "<table border=\"1\" class=\"dataframe\">\n",
       "  <thead>\n",
       "    <tr style=\"text-align: right;\">\n",
       "      <th></th>\n",
       "      <th>Unnamed: 0</th>\n",
       "      <th>Chord</th>\n",
       "      <th>Composer</th>\n",
       "      <th>File</th>\n",
       "      <th>NormalForm</th>\n",
       "      <th>Offset</th>\n",
       "      <th>PCsInNormalForm</th>\n",
       "      <th>beatNumber</th>\n",
       "      <th>measureNumber</th>\n",
       "      <th>pieceNumber</th>\n",
       "      <th>...</th>\n",
       "      <th>genre</th>\n",
       "      <th>publicationYear</th>\n",
       "      <th>Epoch</th>\n",
       "      <th>Source</th>\n",
       "      <th>fileFormat</th>\n",
       "      <th>phraseAnalysis</th>\n",
       "      <th>fileConversion</th>\n",
       "      <th>getChords</th>\n",
       "      <th>Common Names</th>\n",
       "      <th>Contains 7th</th>\n",
       "    </tr>\n",
       "  </thead>\n",
       "  <tbody>\n",
       "    <tr>\n",
       "      <td>18</td>\n",
       "      <td>18</td>\n",
       "      <td>[&lt;music21.note.Note G#&gt;, &lt;music21.note.Note E&gt;]</td>\n",
       "      <td>AlariodelRio</td>\n",
       "      <td>AlariodelRio_Sol_Sostenido.xml</td>\n",
       "      <td>[0, 4]</td>\n",
       "      <td>9.0</td>\n",
       "      <td>[4, 8]</td>\n",
       "      <td>2.5</td>\n",
       "      <td>2.0</td>\n",
       "      <td>piece36</td>\n",
       "      <td>...</td>\n",
       "      <td>OtherSolo</td>\n",
       "      <td>2013</td>\n",
       "      <td>1970-2020</td>\n",
       "      <td>IMSLP</td>\n",
       "      <td>PDF</td>\n",
       "      <td>N</td>\n",
       "      <td>Y</td>\n",
       "      <td>Y</td>\n",
       "      <td>Minor Twentieth</td>\n",
       "      <td>False</td>\n",
       "    </tr>\n",
       "    <tr>\n",
       "      <td>20</td>\n",
       "      <td>20</td>\n",
       "      <td>[&lt;music21.note.Note G#&gt;, &lt;music21.note.Note E&gt;]</td>\n",
       "      <td>AlariodelRio</td>\n",
       "      <td>AlariodelRio_Sol_Sostenido.xml</td>\n",
       "      <td>[0, 4]</td>\n",
       "      <td>10.0</td>\n",
       "      <td>[4, 8]</td>\n",
       "      <td>3.0</td>\n",
       "      <td>2.0</td>\n",
       "      <td>piece36</td>\n",
       "      <td>...</td>\n",
       "      <td>OtherSolo</td>\n",
       "      <td>2013</td>\n",
       "      <td>1970-2020</td>\n",
       "      <td>IMSLP</td>\n",
       "      <td>PDF</td>\n",
       "      <td>N</td>\n",
       "      <td>Y</td>\n",
       "      <td>Y</td>\n",
       "      <td>Minor Thirteenth</td>\n",
       "      <td>False</td>\n",
       "    </tr>\n",
       "    <tr>\n",
       "      <td>22</td>\n",
       "      <td>22</td>\n",
       "      <td>[&lt;music21.note.Note F#&gt;, &lt;music21.note.Note E&gt;]</td>\n",
       "      <td>AlariodelRio</td>\n",
       "      <td>AlariodelRio_Sol_Sostenido.xml</td>\n",
       "      <td>[0, 2]</td>\n",
       "      <td>11.0</td>\n",
       "      <td>[4, 6]</td>\n",
       "      <td>3.5</td>\n",
       "      <td>2.0</td>\n",
       "      <td>piece36</td>\n",
       "      <td>...</td>\n",
       "      <td>OtherSolo</td>\n",
       "      <td>2013</td>\n",
       "      <td>1970-2020</td>\n",
       "      <td>IMSLP</td>\n",
       "      <td>PDF</td>\n",
       "      <td>N</td>\n",
       "      <td>Y</td>\n",
       "      <td>Y</td>\n",
       "      <td>Minor Fourteenth</td>\n",
       "      <td>False</td>\n",
       "    </tr>\n",
       "    <tr>\n",
       "      <td>26</td>\n",
       "      <td>26</td>\n",
       "      <td>[&lt;music21.note.Note F#&gt;, &lt;music21.note.Note E&gt;]</td>\n",
       "      <td>AlariodelRio</td>\n",
       "      <td>AlariodelRio_Sol_Sostenido.xml</td>\n",
       "      <td>[0, 2]</td>\n",
       "      <td>14.0</td>\n",
       "      <td>[4, 6]</td>\n",
       "      <td>2.0</td>\n",
       "      <td>3.0</td>\n",
       "      <td>piece36</td>\n",
       "      <td>...</td>\n",
       "      <td>OtherSolo</td>\n",
       "      <td>2013</td>\n",
       "      <td>1970-2020</td>\n",
       "      <td>IMSLP</td>\n",
       "      <td>PDF</td>\n",
       "      <td>N</td>\n",
       "      <td>Y</td>\n",
       "      <td>Y</td>\n",
       "      <td>Minor Fourteenth</td>\n",
       "      <td>False</td>\n",
       "    </tr>\n",
       "    <tr>\n",
       "      <td>28</td>\n",
       "      <td>28</td>\n",
       "      <td>[&lt;music21.note.Note C#&gt;, &lt;music21.note.Note E&gt;]</td>\n",
       "      <td>AlariodelRio</td>\n",
       "      <td>AlariodelRio_Sol_Sostenido.xml</td>\n",
       "      <td>[0, 3]</td>\n",
       "      <td>15.0</td>\n",
       "      <td>[1, 4]</td>\n",
       "      <td>2.5</td>\n",
       "      <td>3.0</td>\n",
       "      <td>piece36</td>\n",
       "      <td>...</td>\n",
       "      <td>OtherSolo</td>\n",
       "      <td>2013</td>\n",
       "      <td>1970-2020</td>\n",
       "      <td>IMSLP</td>\n",
       "      <td>PDF</td>\n",
       "      <td>N</td>\n",
       "      <td>Y</td>\n",
       "      <td>Y</td>\n",
       "      <td>Minor Seventeenth</td>\n",
       "      <td>False</td>\n",
       "    </tr>\n",
       "  </tbody>\n",
       "</table>\n",
       "<p>5 rows × 22 columns</p>\n",
       "</div>"
      ],
      "text/plain": [
       "    Unnamed: 0                                            Chord      Composer  \\\n",
       "18          18  [<music21.note.Note G#>, <music21.note.Note E>]  AlariodelRio   \n",
       "20          20  [<music21.note.Note G#>, <music21.note.Note E>]  AlariodelRio   \n",
       "22          22  [<music21.note.Note F#>, <music21.note.Note E>]  AlariodelRio   \n",
       "26          26  [<music21.note.Note F#>, <music21.note.Note E>]  AlariodelRio   \n",
       "28          28  [<music21.note.Note C#>, <music21.note.Note E>]  AlariodelRio   \n",
       "\n",
       "                              File NormalForm  Offset PCsInNormalForm  \\\n",
       "18  AlariodelRio_Sol_Sostenido.xml     [0, 4]     9.0          [4, 8]   \n",
       "20  AlariodelRio_Sol_Sostenido.xml     [0, 4]    10.0          [4, 8]   \n",
       "22  AlariodelRio_Sol_Sostenido.xml     [0, 2]    11.0          [4, 6]   \n",
       "26  AlariodelRio_Sol_Sostenido.xml     [0, 2]    14.0          [4, 6]   \n",
       "28  AlariodelRio_Sol_Sostenido.xml     [0, 3]    15.0          [1, 4]   \n",
       "\n",
       "   beatNumber  measureNumber pieceNumber  ...      genre publicationYear  \\\n",
       "18        2.5            2.0     piece36  ...  OtherSolo            2013   \n",
       "20        3.0            2.0     piece36  ...  OtherSolo            2013   \n",
       "22        3.5            2.0     piece36  ...  OtherSolo            2013   \n",
       "26        2.0            3.0     piece36  ...  OtherSolo            2013   \n",
       "28        2.5            3.0     piece36  ...  OtherSolo            2013   \n",
       "\n",
       "        Epoch  Source fileFormat phraseAnalysis fileConversion getChords  \\\n",
       "18  1970-2020   IMSLP        PDF              N              Y         Y   \n",
       "20  1970-2020   IMSLP        PDF              N              Y         Y   \n",
       "22  1970-2020   IMSLP        PDF              N              Y         Y   \n",
       "26  1970-2020   IMSLP        PDF              N              Y         Y   \n",
       "28  1970-2020   IMSLP        PDF              N              Y         Y   \n",
       "\n",
       "         Common Names Contains 7th  \n",
       "18    Minor Twentieth        False  \n",
       "20   Minor Thirteenth        False  \n",
       "22   Minor Fourteenth        False  \n",
       "26   Minor Fourteenth        False  \n",
       "28  Minor Seventeenth        False  \n",
       "\n",
       "[5 rows x 22 columns]"
      ]
     },
     "execution_count": 14,
     "metadata": {},
     "output_type": "execute_result"
    }
   ],
   "source": [
    "dataset.head()"
   ]
  },
  {
   "cell_type": "code",
   "execution_count": 11,
   "metadata": {
    "kernel": "Python 3"
   },
   "outputs": [],
   "source": [
    "# Checks whether a chord is an extended chord based on the normal form representation\n",
    "def isExtendedChord(c):\n",
    "    nonExtendeds = ['[0, 3]', '[0, 4]', '[0, 5]', '[0, 6]', '[0, 3, 6]', '[0, 4, 7]', '[0, 3, 7]', '[0, 4, 8]']\n",
    "    if c in nonExtendeds:\n",
    "        return 'Not Extended Chord'\n",
    "    else:\n",
    "        return 'Extended Chord'"
   ]
  },
  {
   "cell_type": "code",
   "execution_count": 12,
   "metadata": {
    "kernel": "Python 3"
   },
   "outputs": [],
   "source": [
    "dataset['isExtended'] = dataset['NormalForm'].apply(isExtendedChord)"
   ]
  },
  {
   "cell_type": "code",
   "execution_count": 14,
   "metadata": {
    "kernel": "Python 3"
   },
   "outputs": [
    {
     "data": {
      "text/html": [
       "<div>\n",
       "<style scoped>\n",
       "    .dataframe tbody tr th:only-of-type {\n",
       "        vertical-align: middle;\n",
       "    }\n",
       "\n",
       "    .dataframe tbody tr th {\n",
       "        vertical-align: top;\n",
       "    }\n",
       "\n",
       "    .dataframe thead th {\n",
       "        text-align: right;\n",
       "    }\n",
       "</style>\n",
       "<table border=\"1\" class=\"dataframe\">\n",
       "  <thead>\n",
       "    <tr style=\"text-align: right;\">\n",
       "      <th></th>\n",
       "      <th>Unnamed: 0</th>\n",
       "      <th>Chord</th>\n",
       "      <th>Composer</th>\n",
       "      <th>File</th>\n",
       "      <th>NormalForm</th>\n",
       "      <th>Offset</th>\n",
       "      <th>PCsInNormalForm</th>\n",
       "      <th>beatNumber</th>\n",
       "      <th>measureNumber</th>\n",
       "      <th>pieceNumber</th>\n",
       "      <th>...</th>\n",
       "      <th>publicationYear</th>\n",
       "      <th>Epoch</th>\n",
       "      <th>Source</th>\n",
       "      <th>fileFormat</th>\n",
       "      <th>phraseAnalysis</th>\n",
       "      <th>fileConversion</th>\n",
       "      <th>getChords</th>\n",
       "      <th>Common Names</th>\n",
       "      <th>Contains 7th</th>\n",
       "      <th>isExtended</th>\n",
       "    </tr>\n",
       "  </thead>\n",
       "  <tbody>\n",
       "    <tr>\n",
       "      <td>18</td>\n",
       "      <td>18</td>\n",
       "      <td>[&lt;music21.note.Note G#&gt;, &lt;music21.note.Note E&gt;]</td>\n",
       "      <td>AlariodelRio</td>\n",
       "      <td>AlariodelRio_Sol_Sostenido.xml</td>\n",
       "      <td>[0, 4]</td>\n",
       "      <td>9.0</td>\n",
       "      <td>[4, 8]</td>\n",
       "      <td>2.5</td>\n",
       "      <td>2.0</td>\n",
       "      <td>piece36</td>\n",
       "      <td>...</td>\n",
       "      <td>2013</td>\n",
       "      <td>1970-2020</td>\n",
       "      <td>IMSLP</td>\n",
       "      <td>PDF</td>\n",
       "      <td>N</td>\n",
       "      <td>Y</td>\n",
       "      <td>Y</td>\n",
       "      <td>Minor Twentieth</td>\n",
       "      <td>False</td>\n",
       "      <td>Not Extended Chord</td>\n",
       "    </tr>\n",
       "    <tr>\n",
       "      <td>20</td>\n",
       "      <td>20</td>\n",
       "      <td>[&lt;music21.note.Note G#&gt;, &lt;music21.note.Note E&gt;]</td>\n",
       "      <td>AlariodelRio</td>\n",
       "      <td>AlariodelRio_Sol_Sostenido.xml</td>\n",
       "      <td>[0, 4]</td>\n",
       "      <td>10.0</td>\n",
       "      <td>[4, 8]</td>\n",
       "      <td>3.0</td>\n",
       "      <td>2.0</td>\n",
       "      <td>piece36</td>\n",
       "      <td>...</td>\n",
       "      <td>2013</td>\n",
       "      <td>1970-2020</td>\n",
       "      <td>IMSLP</td>\n",
       "      <td>PDF</td>\n",
       "      <td>N</td>\n",
       "      <td>Y</td>\n",
       "      <td>Y</td>\n",
       "      <td>Minor Thirteenth</td>\n",
       "      <td>False</td>\n",
       "      <td>Not Extended Chord</td>\n",
       "    </tr>\n",
       "    <tr>\n",
       "      <td>22</td>\n",
       "      <td>22</td>\n",
       "      <td>[&lt;music21.note.Note F#&gt;, &lt;music21.note.Note E&gt;]</td>\n",
       "      <td>AlariodelRio</td>\n",
       "      <td>AlariodelRio_Sol_Sostenido.xml</td>\n",
       "      <td>[0, 2]</td>\n",
       "      <td>11.0</td>\n",
       "      <td>[4, 6]</td>\n",
       "      <td>3.5</td>\n",
       "      <td>2.0</td>\n",
       "      <td>piece36</td>\n",
       "      <td>...</td>\n",
       "      <td>2013</td>\n",
       "      <td>1970-2020</td>\n",
       "      <td>IMSLP</td>\n",
       "      <td>PDF</td>\n",
       "      <td>N</td>\n",
       "      <td>Y</td>\n",
       "      <td>Y</td>\n",
       "      <td>Minor Fourteenth</td>\n",
       "      <td>False</td>\n",
       "      <td>Extended Chord</td>\n",
       "    </tr>\n",
       "    <tr>\n",
       "      <td>26</td>\n",
       "      <td>26</td>\n",
       "      <td>[&lt;music21.note.Note F#&gt;, &lt;music21.note.Note E&gt;]</td>\n",
       "      <td>AlariodelRio</td>\n",
       "      <td>AlariodelRio_Sol_Sostenido.xml</td>\n",
       "      <td>[0, 2]</td>\n",
       "      <td>14.0</td>\n",
       "      <td>[4, 6]</td>\n",
       "      <td>2.0</td>\n",
       "      <td>3.0</td>\n",
       "      <td>piece36</td>\n",
       "      <td>...</td>\n",
       "      <td>2013</td>\n",
       "      <td>1970-2020</td>\n",
       "      <td>IMSLP</td>\n",
       "      <td>PDF</td>\n",
       "      <td>N</td>\n",
       "      <td>Y</td>\n",
       "      <td>Y</td>\n",
       "      <td>Minor Fourteenth</td>\n",
       "      <td>False</td>\n",
       "      <td>Extended Chord</td>\n",
       "    </tr>\n",
       "    <tr>\n",
       "      <td>28</td>\n",
       "      <td>28</td>\n",
       "      <td>[&lt;music21.note.Note C#&gt;, &lt;music21.note.Note E&gt;]</td>\n",
       "      <td>AlariodelRio</td>\n",
       "      <td>AlariodelRio_Sol_Sostenido.xml</td>\n",
       "      <td>[0, 3]</td>\n",
       "      <td>15.0</td>\n",
       "      <td>[1, 4]</td>\n",
       "      <td>2.5</td>\n",
       "      <td>3.0</td>\n",
       "      <td>piece36</td>\n",
       "      <td>...</td>\n",
       "      <td>2013</td>\n",
       "      <td>1970-2020</td>\n",
       "      <td>IMSLP</td>\n",
       "      <td>PDF</td>\n",
       "      <td>N</td>\n",
       "      <td>Y</td>\n",
       "      <td>Y</td>\n",
       "      <td>Minor Seventeenth</td>\n",
       "      <td>False</td>\n",
       "      <td>Not Extended Chord</td>\n",
       "    </tr>\n",
       "  </tbody>\n",
       "</table>\n",
       "<p>5 rows × 23 columns</p>\n",
       "</div>"
      ],
      "text/plain": [
       "    Unnamed: 0                                            Chord      Composer  \\\n",
       "18          18  [<music21.note.Note G#>, <music21.note.Note E>]  AlariodelRio   \n",
       "20          20  [<music21.note.Note G#>, <music21.note.Note E>]  AlariodelRio   \n",
       "22          22  [<music21.note.Note F#>, <music21.note.Note E>]  AlariodelRio   \n",
       "26          26  [<music21.note.Note F#>, <music21.note.Note E>]  AlariodelRio   \n",
       "28          28  [<music21.note.Note C#>, <music21.note.Note E>]  AlariodelRio   \n",
       "\n",
       "                              File NormalForm  Offset PCsInNormalForm  \\\n",
       "18  AlariodelRio_Sol_Sostenido.xml     [0, 4]     9.0          [4, 8]   \n",
       "20  AlariodelRio_Sol_Sostenido.xml     [0, 4]    10.0          [4, 8]   \n",
       "22  AlariodelRio_Sol_Sostenido.xml     [0, 2]    11.0          [4, 6]   \n",
       "26  AlariodelRio_Sol_Sostenido.xml     [0, 2]    14.0          [4, 6]   \n",
       "28  AlariodelRio_Sol_Sostenido.xml     [0, 3]    15.0          [1, 4]   \n",
       "\n",
       "   beatNumber  measureNumber pieceNumber  ... publicationYear      Epoch  \\\n",
       "18        2.5            2.0     piece36  ...            2013  1970-2020   \n",
       "20        3.0            2.0     piece36  ...            2013  1970-2020   \n",
       "22        3.5            2.0     piece36  ...            2013  1970-2020   \n",
       "26        2.0            3.0     piece36  ...            2013  1970-2020   \n",
       "28        2.5            3.0     piece36  ...            2013  1970-2020   \n",
       "\n",
       "   Source  fileFormat phraseAnalysis fileConversion getChords  \\\n",
       "18  IMSLP         PDF              N              Y         Y   \n",
       "20  IMSLP         PDF              N              Y         Y   \n",
       "22  IMSLP         PDF              N              Y         Y   \n",
       "26  IMSLP         PDF              N              Y         Y   \n",
       "28  IMSLP         PDF              N              Y         Y   \n",
       "\n",
       "         Common Names Contains 7th          isExtended  \n",
       "18    Minor Twentieth        False  Not Extended Chord  \n",
       "20   Minor Thirteenth        False  Not Extended Chord  \n",
       "22   Minor Fourteenth        False      Extended Chord  \n",
       "26   Minor Fourteenth        False      Extended Chord  \n",
       "28  Minor Seventeenth        False  Not Extended Chord  \n",
       "\n",
       "[5 rows x 23 columns]"
      ]
     },
     "execution_count": 14,
     "metadata": {},
     "output_type": "execute_result"
    }
   ],
   "source": [
    "dataset.head()"
   ]
  },
  {
   "cell_type": "markdown",
   "metadata": {},
   "source": [
    "Get all distinct values of the normal form representation, separately for chords classified as extended and not extended. "
   ]
  },
  {
   "cell_type": "code",
   "execution_count": 176,
   "metadata": {},
   "outputs": [],
   "source": [
    "extCounts=dataset[dataset['isExtended']=='Extended Chord']['NormalForm'].value_counts().rename_axis('NormalForm').reset_index(name='Count')\n",
    "nonExtCounts=dataset[dataset['isExtended']=='Not Extended Chord']['NormalForm'].value_counts().rename_axis('NormalForm').reset_index(name='Count')\n",
    "#extCounts"
   ]
  },
  {
   "cell_type": "code",
   "execution_count": 204,
   "metadata": {},
   "outputs": [],
   "source": [
    "#extNames=dataset[dataset['isExtended']=='Extended Chord'].groupby('NormalForm')['Common Names'].unique().reset_index(name='Common Names')\n",
    "#nonExtNames=dataset[dataset['isExtended']=='Not Extended Chord'].groupby('NormalForm')['Common Names'].unique().reset_index(name='Common Names')\n",
    "#extNames\n",
    "extgroup=dataset[dataset['isExtended']=='Extended Chord'].groupby('NormalForm')\n",
    "extNames=extgroup.apply(lambda x: x['Common Names'].unique()) \n",
    "extNames=extNames.apply(pd.Series)\n",
    "extNames.fillna('',inplace=True)\n",
    "#extNames\n",
    "\n",
    "nonExtgroup=dataset[dataset['isExtended']=='Not Extended Chord'].groupby('NormalForm')\n",
    "nonExtNames=nonExtgroup.apply(lambda x: x['Common Names'].unique()) \n",
    "nonExtNames=nonExtNames.apply(pd.Series)\n",
    "nonExtNames.fillna('',inplace=True)\n"
   ]
  },
  {
   "cell_type": "code",
   "execution_count": 205,
   "metadata": {},
   "outputs": [],
   "source": [
    "extTypes=extCounts.merge(extNames, on='NormalForm')\n",
    "nonExtTypes=nonExtCounts.merge(nonExtNames, on='NormalForm')\n",
    "#extTypes"
   ]
  },
  {
   "cell_type": "code",
   "execution_count": 206,
   "metadata": {},
   "outputs": [],
   "source": [
    "extTypes.to_csv('extendedTypes.csv',header=True)\n",
    "nonExtTypes.to_csv('nonExtendedTypes.csv',header=True)"
   ]
  },
  {
   "cell_type": "markdown",
   "metadata": {},
   "source": [
    "Proportion of extended chords overall and by epoch"
   ]
  },
  {
   "cell_type": "code",
   "execution_count": 16,
   "metadata": {
    "kernel": "Python 3"
   },
   "outputs": [],
   "source": [
    "raw_extendeds = dataset['isExtended'].value_counts()"
   ]
  },
  {
   "cell_type": "code",
   "execution_count": 17,
   "metadata": {},
   "outputs": [
    {
     "data": {
      "text/plain": [
       "Not Extended Chord    4201\n",
       "Extended Chord        2761\n",
       "Name: isExtended, dtype: int64"
      ]
     },
     "execution_count": 17,
     "metadata": {},
     "output_type": "execute_result"
    }
   ],
   "source": [
    "raw_extendeds"
   ]
  },
  {
   "cell_type": "code",
   "execution_count": 18,
   "metadata": {
    "kernel": "Python 3"
   },
   "outputs": [
    {
     "data": {
      "image/png": "[encoded data removed]",
      "text/plain": [
       "<Figure size 576x576 with 1 Axes>"
      ]
     },
     "metadata": {
      "image/png": {
       "height": 464,
       "width": 462
      }
     },
     "output_type": "display_data"
    }
   ],
   "source": [
    "# Plot distribution of chord types\n",
    "piePlot = raw_extendeds.plot(kind='pie', figsize=(8,8), title='Extended Chords Pie Chart - Entire Corpus')"
   ]
  },
  {
   "cell_type": "code",
   "execution_count": 19,
   "metadata": {
    "kernel": "Python 3",
    "scrolled": true
   },
   "outputs": [
    {
     "data": {
      "image/png": "[encoded data removed]",
      "text/plain": [
       "<Figure size 432x288 with 1 Axes>"
      ]
     },
     "metadata": {
      "image/png": {
       "height": 356,
       "width": 381
      },
      "needs_background": "light"
     },
     "output_type": "display_data"
    }
   ],
   "source": [
    "#barPlot = raw_extendeds.plot(kind='bar', title='Extended Chords Bar Graph - Entire Corpus', ylabel='Counts')\n",
    "barPlot = raw_extendeds.plot(kind='bar', title='Extended Chords Bar Graph - Entire Corpus')"
   ]
  },
  {
   "cell_type": "code",
   "execution_count": 20,
   "metadata": {
    "kernel": "Python 3"
   },
   "outputs": [],
   "source": [
    "by_epoch = dataset.groupby(by='Epoch')\n",
    "values = by_epoch['isExtended'].value_counts()"
   ]
  },
  {
   "cell_type": "code",
   "execution_count": 21,
   "metadata": {
    "kernel": "Python 3"
   },
   "outputs": [
    {
     "data": {
      "text/plain": [
       "<matplotlib.axes._subplots.AxesSubplot at 0x17892c0ed48>"
      ]
     },
     "execution_count": 21,
     "metadata": {},
     "output_type": "execute_result"
    },
    {
     "data": {
      "image/png": "[encoded data removed]",
      "text/plain": [
       "<Figure size 432x288 with 1 Axes>"
      ]
     },
     "metadata": {
      "image/png": {
       "height": 309,
       "width": 381
      },
      "needs_background": "light"
     },
     "output_type": "display_data"
    }
   ],
   "source": [
    "#Reorganize the dataframe for easy graphing\n",
    "non_extended = []\n",
    "extended = []\n",
    "index = ['1820-1869', '1870-1919', '1920-1969', '1970-2020']\n",
    "for i in range(len(values)):\n",
    "    if i % 2 == 0:\n",
    "        non_extended.append(values[i])\n",
    "    else:\n",
    "        extended.append(values[i])\n",
    "new_epochdf = pd.DataFrame({'Not Extended Chord': non_extended, 'Extended Chord': extended}, index=index)\n",
    "#new_epochdf.plot(kind='bar', title='Extended Chords Bar Graph - By Epoch', ylabel='Counts')\n",
    "new_epochdf.plot(kind='bar', title='Extended Chords Bar Graph - By Epoch')"
   ]
  },
  {
   "cell_type": "markdown",
   "metadata": {},
   "source": [
    "Logistic regression"
   ]
  },
  {
   "cell_type": "code",
   "execution_count": 22,
   "metadata": {},
   "outputs": [],
   "source": [
    "from sklearn.linear_model import LogisticRegression\n",
    "from sklearn import metrics"
   ]
  },
  {
   "cell_type": "code",
   "execution_count": 23,
   "metadata": {},
   "outputs": [],
   "source": [
    "def extendedbinary(x):\n",
    "    if x==\"Extended Chord\":\n",
    "        return 1\n",
    "    else:\n",
    "        return 0"
   ]
  },
  {
   "cell_type": "code",
   "execution_count": 24,
   "metadata": {},
   "outputs": [],
   "source": [
    "dataset['extendedInd'] = dataset['isExtended'].apply(extendedbinary)"
   ]
  },
  {
   "cell_type": "code",
   "execution_count": 33,
   "metadata": {},
   "outputs": [],
   "source": [
    "X = dataset['publicationYear']\n",
    "Y = dataset['extendedInd']"
   ]
  },
  {
   "cell_type": "code",
   "execution_count": 34,
   "metadata": {},
   "outputs": [
    {
     "name": "stdout",
     "output_type": "stream",
     "text": [
      "Optimization terminated successfully.\n",
      "         Current function value: 0.672189\n",
      "         Iterations 3\n",
      "                           Logit Regression Results                           \n",
      "==============================================================================\n",
      "Dep. Variable:            extendedInd   No. Observations:                 6962\n",
      "Model:                          Logit   Df Residuals:                     6961\n",
      "Method:                           MLE   Df Model:                            0\n",
      "Date:                Mon, 30 Nov 2020   Pseudo R-squ.:              -0.0008759\n",
      "Time:                        11:25:57   Log-Likelihood:                -4679.8\n",
      "converged:                       True   LL-Null:                       -4675.7\n",
      "Covariance Type:            nonrobust   LLR p-value:                       nan\n",
      "===================================================================================\n",
      "                      coef    std err          z      P>|z|      [0.025      0.975]\n",
      "-----------------------------------------------------------------------------------\n",
      "publicationYear    -0.0002   1.28e-05    -16.901      0.000      -0.000      -0.000\n",
      "===================================================================================\n"
     ]
    }
   ],
   "source": [
    "import statsmodels.api as sm\n",
    "logit_model=sm.Logit(Y,X)\n",
    "X=sm.add_constant(X)\n",
    "result=logit_model.fit()\n",
    "print(result.summary())"
   ]
  },
  {
   "cell_type": "code",
   "execution_count": 32,
   "metadata": {},
   "outputs": [
    {
     "name": "stdout",
     "output_type": "stream",
     "text": [
      "Optimization terminated successfully.\n",
      "         Current function value: 0.668669\n",
      "         Iterations 4\n",
      "                           Logit Regression Results                           \n",
      "==============================================================================\n",
      "Dep. Variable:            extendedInd   No. Observations:                 6962\n",
      "Model:                          Logit   Df Residuals:                     6960\n",
      "Method:                           MLE   Df Model:                            1\n",
      "Date:                Mon, 30 Nov 2020   Pseudo R-squ.:                0.004365\n",
      "Time:                        11:24:47   Log-Likelihood:                -4655.3\n",
      "converged:                       True   LL-Null:                       -4675.7\n",
      "Covariance Type:            nonrobust   LLR p-value:                 1.668e-10\n",
      "===================================================================================\n",
      "                      coef    std err          z      P>|z|      [0.025      0.975]\n",
      "-----------------------------------------------------------------------------------\n",
      "const              -4.7777      0.684     -6.985      0.000      -6.118      -3.437\n",
      "publicationYear     0.0023      0.000      6.379      0.000       0.002       0.003\n",
      "===================================================================================\n"
     ]
    }
   ],
   "source": [
    "import statsmodels.api as sm\n",
    "sm.tools.tools.add_constant(X)\n",
    "Xnew=sm.tools.tools.add_constant(X)\n",
    "logit_model=sm.Logit(Y,Xnew)\n",
    "result=logit_model.fit()\n",
    "print(result.summary())"
   ]
  },
  {
   "cell_type": "markdown",
   "metadata": {},
   "source": [
    "Double check results: compare with GLM method"
   ]
  },
  {
   "cell_type": "code",
   "execution_count": 43,
   "metadata": {},
   "outputs": [],
   "source": [
    "glm=sm.GLM(Y, Xnew, family=sm.families.Binomial())"
   ]
  },
  {
   "cell_type": "code",
   "execution_count": 48,
   "metadata": {},
   "outputs": [],
   "source": [
    "glmfit=glm.fit()"
   ]
  },
  {
   "cell_type": "code",
   "execution_count": 50,
   "metadata": {},
   "outputs": [
    {
     "data": {
      "text/html": [
       "<table class=\"simpletable\">\n",
       "<caption>Generalized Linear Model Regression Results</caption>\n",
       "<tr>\n",
       "  <th>Dep. Variable:</th>      <td>extendedInd</td>   <th>  No. Observations:  </th>  <td>  6962</td> \n",
       "</tr>\n",
       "<tr>\n",
       "  <th>Model:</th>                  <td>GLM</td>       <th>  Df Residuals:      </th>  <td>  6960</td> \n",
       "</tr>\n",
       "<tr>\n",
       "  <th>Model Family:</th>        <td>Binomial</td>     <th>  Df Model:          </th>  <td>     1</td> \n",
       "</tr>\n",
       "<tr>\n",
       "  <th>Link Function:</th>         <td>logit</td>      <th>  Scale:             </th> <td>  1.0000</td>\n",
       "</tr>\n",
       "<tr>\n",
       "  <th>Method:</th>                <td>IRLS</td>       <th>  Log-Likelihood:    </th> <td> -4655.3</td>\n",
       "</tr>\n",
       "<tr>\n",
       "  <th>Date:</th>            <td>Mon, 30 Nov 2020</td> <th>  Deviance:          </th> <td>  9310.6</td>\n",
       "</tr>\n",
       "<tr>\n",
       "  <th>Time:</th>                <td>11:47:37</td>     <th>  Pearson chi2:      </th> <td>6.96e+03</td>\n",
       "</tr>\n",
       "<tr>\n",
       "  <th>No. Iterations:</th>          <td>4</td>        <th>                     </th>     <td> </td>   \n",
       "</tr>\n",
       "<tr>\n",
       "  <th>Covariance Type:</th>     <td>nonrobust</td>    <th>                     </th>     <td> </td>   \n",
       "</tr>\n",
       "</table>\n",
       "<table class=\"simpletable\">\n",
       "<tr>\n",
       "         <td></td>            <th>coef</th>     <th>std err</th>      <th>z</th>      <th>P>|z|</th>  <th>[0.025</th>    <th>0.975]</th>  \n",
       "</tr>\n",
       "<tr>\n",
       "  <th>const</th>           <td>   -4.7777</td> <td>    0.684</td> <td>   -6.985</td> <td> 0.000</td> <td>   -6.118</td> <td>   -3.437</td>\n",
       "</tr>\n",
       "<tr>\n",
       "  <th>publicationYear</th> <td>    0.0023</td> <td>    0.000</td> <td>    6.379</td> <td> 0.000</td> <td>    0.002</td> <td>    0.003</td>\n",
       "</tr>\n",
       "</table>"
      ],
      "text/plain": [
       "<class 'statsmodels.iolib.summary.Summary'>\n",
       "\"\"\"\n",
       "                 Generalized Linear Model Regression Results                  \n",
       "==============================================================================\n",
       "Dep. Variable:            extendedInd   No. Observations:                 6962\n",
       "Model:                            GLM   Df Residuals:                     6960\n",
       "Model Family:                Binomial   Df Model:                            1\n",
       "Link Function:                  logit   Scale:                          1.0000\n",
       "Method:                          IRLS   Log-Likelihood:                -4655.3\n",
       "Date:                Mon, 30 Nov 2020   Deviance:                       9310.6\n",
       "Time:                        11:47:37   Pearson chi2:                 6.96e+03\n",
       "No. Iterations:                     4                                         \n",
       "Covariance Type:            nonrobust                                         \n",
       "===================================================================================\n",
       "                      coef    std err          z      P>|z|      [0.025      0.975]\n",
       "-----------------------------------------------------------------------------------\n",
       "const              -4.7777      0.684     -6.985      0.000      -6.118      -3.437\n",
       "publicationYear     0.0023      0.000      6.379      0.000       0.002       0.003\n",
       "===================================================================================\n",
       "\"\"\""
      ]
     },
     "execution_count": 50,
     "metadata": {},
     "output_type": "execute_result"
    }
   ],
   "source": [
    "glmfit.summary()"
   ]
  },
  {
   "cell_type": "code",
   "execution_count": null,
   "metadata": {},
   "outputs": [],
   "source": []
  }
 ],
 "metadata": {
  "kernelspec": {
   "display_name": "Python 3",
   "language": "python",
   "name": "python3"
  },
  "language_info": {
   "codemirror_mode": {
    "name": "ipython",
    "version": 3
   },
   "file_extension": ".py",
   "mimetype": "text/x-python",
   "name": "python",
   "nbconvert_exporter": "python",
   "pygments_lexer": "ipython3",
   "version": "3.7.4"
  },
  "sos": {
   "kernels": [
    [
     "Python 3",
     "python3",
     "python3",
     "",
     ""
    ],
    [
     "SoS",
     "sos",
     "",
     "",
     "sos"
    ]
   ],
   "panel": {
    "displayed": true,
    "height": 0
   },
   "version": "0.21.18"
  }
 },
 "nbformat": 4,
 "nbformat_minor": 4
}
