{
 "cells": [
  {
   "cell_type": "markdown",
   "metadata": {},
   "source": [
    "Read in 8 .mxl files from MuseScore into music21 and 7 .xml files converted from pdf using photoscore\n",
    "\n",
    "Input files must be saved on the server in the same folder as the Jupyter notebook (server cannot access them directly from GitHub)\n",
    "\n",
    "TBD: 'chordify' each file and get normal form representation\n",
    "Export to csv "
   ]
  },
  {
   "cell_type": "code",
   "execution_count": 73,
   "metadata": {},
   "outputs": [],
   "source": [
    "from music21 import *\n",
    "import pandas as pd\n",
    "import os"
   ]
  },
  {
   "cell_type": "code",
   "execution_count": 39,
   "metadata": {},
   "outputs": [],
   "source": [
    "environment.set('autoDownload','allow')"
   ]
  },
  {
   "cell_type": "code",
   "execution_count": 75,
   "metadata": {},
   "outputs": [
    {
     "name": "stdout",
     "output_type": "stream",
     "text": [
      "['AlariodelRio_PianoPieceNo8.xml', 'Allard_5diversions.xml', 'Bachlund_Commedia_Dellarte.xml', 'Beatty_Musing_for_Piano.xml', 'Copland_Piano_Blues_No_3.mxl', 'Messiaen_Regard_du_Pere.mxl', 'Part_Fuer_Alina.mxl', 'Poulenc_Les_chemins_de_lamour.mxl', 'Rautavaara_Etude_op42_no1_Thirds.mxl', 'Schnittke_Tango.mxl', 'Sculthorpe_Sea_Chant.mxl', 'Simpson_Invention_no6.xml', 'Takemitsu_Romance.mxl', 'Zhang_Mazurka.xml']\n"
     ]
    },
    {
     "data": {
      "text/plain": [
       "14"
      ]
     },
     "execution_count": 75,
     "metadata": {},
     "output_type": "execute_result"
    }
   ],
   "source": [
    "xmlFiles=os.listdir('./mxl_files')\n",
    "print(xmlFiles)\n",
    "len(xmlFiles)"
   ]
  },
  {
   "cell_type": "code",
   "execution_count": 41,
   "metadata": {},
   "outputs": [],
   "source": [
    "environment.set(\"musescoreDirectPNGPath\", \"C:/Program Files/MuseScore 3/bin\")\n",
    "environment.set(\"musicxmlPath\", \"C:/Program Files/MuseScore 3/bin\")"
   ]
  },
  {
   "cell_type": "code",
   "execution_count": 42,
   "metadata": {},
   "outputs": [],
   "source": [
    "#parse a single file to test the process\n",
    "filename='./mxl_files/'+xmlFiles[1] \n",
    "c = converter.Converter()\n",
    "c.parseFile(filename)\n",
    "s = c.stream\n",
    "#s.show()"
   ]
  },
  {
   "cell_type": "code",
   "execution_count": 43,
   "metadata": {},
   "outputs": [],
   "source": [
    "#chordify\n",
    "sChords=s.chordify().flat\n",
    "#sChords.show('text')"
   ]
  },
  {
   "cell_type": "code",
   "execution_count": 63,
   "metadata": {},
   "outputs": [],
   "source": [
    "chordList=[]\n",
    "for thisChord in sChords.recurse().getElementsByClass('Chord'):\n",
    "    normalOrder = thisChord.normalOrder\n",
    "    firstPitch = normalOrder[0]\n",
    "    normalTranspose=[(pc - firstPitch) % 12 for pc in normalOrder]\n",
    "    #print(thisChord.measureNumber, thisChord.beatStr, thisChord.offset, thisChord, normalTranspose, normalOrder, filename)\n",
    "    chordList.append([thisChord.measureNumber, thisChord.beatStr, float(1*thisChord.offset), thisChord, normalTranspose, normalOrder, filename])\n",
    "    "
   ]
  },
  {
   "cell_type": "code",
   "execution_count": 64,
   "metadata": {},
   "outputs": [],
   "source": [
    "df=pd.DataFrame(chordList, columns=['measureNumber','beatNumber','offset','Chord','NormalForm','PCsInNormalForm','file'])"
   ]
  },
  {
   "cell_type": "code",
   "execution_count": 68,
   "metadata": {},
   "outputs": [],
   "source": [
    "df.to_csv('./csv_files/test.csv',index=False)"
   ]
  },
  {
   "cell_type": "code",
   "execution_count": 72,
   "metadata": {},
   "outputs": [
    {
     "name": "stdout",
     "output_type": "stream",
     "text": [
      "Copland_Piano_Blues_No_3.mxl\n",
      "Messiaen_Regard_du_Pere.mxl\n",
      "Part_Fuer_Alina.mxl\n",
      "Poulenc_Les_chemins_de_lamour.mxl\n",
      "Rautavaara_Etude_op42_no1_Thirds.mxl\n",
      "Schnittke_Tango.mxl\n",
      "Sculthorpe_Sea_Chant.mxl\n",
      "Takemitsu_Romance.mxl\n",
      "Allard_5diversions.xml\n",
      "Bachlund_Commedia_Dellarte.xml\n",
      "Beatty_Musing_for_Piano.xml\n",
      "Simpson_Invention_no6.xml\n"
     ]
    }
   ],
   "source": [
    "#parse all mxl files downloaded from MuseScore\n",
    "for filename in (xmlFiles):\n",
    "    fileloc='./mxl_files./' + filename\n",
    "    print(filename)\n",
    "    c = converter.Converter()\n",
    "    c.parseFile(fileloc)\n",
    "    s = c.stream"
   ]
  },
  {
   "cell_type": "code",
   "execution_count": null,
   "metadata": {},
   "outputs": [],
   "source": []
  }
 ],
 "metadata": {
  "kernelspec": {
   "display_name": "Python 3",
   "language": "python",
   "name": "python3"
  },
  "language_info": {
   "codemirror_mode": {
    "name": "ipython",
    "version": 3
   },
   "file_extension": ".py",
   "mimetype": "text/x-python",
   "name": "python",
   "nbconvert_exporter": "python",
   "pygments_lexer": "ipython3",
   "version": "3.7.4"
  }
 },
 "nbformat": 4,
 "nbformat_minor": 4
}
