{
 "cells": [
  {
   "cell_type": "markdown",
   "metadata": {},
   "source": [
    "Read in 8 .mxl files from MuseScore into music21 and 7 .xml files converted from pdf using photoscore\n",
    "\n",
    "Input files must be in csv_files subfolder \n",
    "\n",
    "'chordify' each file and get normal form representation, offset, etc.\n",
    "\n",
    "Export each file to csv"
   ]
  },
  {
   "cell_type": "code",
   "execution_count": 73,
   "metadata": {},
   "outputs": [],
   "source": [
    "from music21 import *\n",
    "import pandas as pd\n",
    "import os"
   ]
  },
  {
   "cell_type": "code",
   "execution_count": 39,
   "metadata": {},
   "outputs": [],
   "source": [
    "environment.set('autoDownload','allow')"
   ]
  },
  {
   "cell_type": "code",
   "execution_count": 75,
   "metadata": {},
   "outputs": [
    {
     "name": "stdout",
     "output_type": "stream",
     "text": [
      "['AlariodelRio_PianoPieceNo8.xml', 'Allard_5diversions.xml', 'Bachlund_Commedia_Dellarte.xml', 'Beatty_Musing_for_Piano.xml', 'Copland_Piano_Blues_No_3.mxl', 'Messiaen_Regard_du_Pere.mxl', 'Part_Fuer_Alina.mxl', 'Poulenc_Les_chemins_de_lamour.mxl', 'Rautavaara_Etude_op42_no1_Thirds.mxl', 'Schnittke_Tango.mxl', 'Sculthorpe_Sea_Chant.mxl', 'Simpson_Invention_no6.xml', 'Takemitsu_Romance.mxl', 'Zhang_Mazurka.xml']\n"
     ]
    },
    {
     "data": {
      "text/plain": [
       "14"
      ]
     },
     "execution_count": 75,
     "metadata": {},
     "output_type": "execute_result"
    }
   ],
   "source": [
    "xmlFiles=os.listdir('./mxl_files')\n",
    "print(xmlFiles)\n",
    "len(xmlFiles)"
   ]
  },
  {
   "cell_type": "code",
   "execution_count": 41,
   "metadata": {},
   "outputs": [],
   "source": [
    "#environment.set(\"musescoreDirectPNGPath\", \"C:/Program Files/MuseScore 3/bin\")\n",
    "#environment.set(\"musicxmlPath\", \"C:/Program Files/MuseScore 3/bin\")"
   ]
  },
  {
   "cell_type": "code",
   "execution_count": 100,
   "metadata": {},
   "outputs": [
    {
     "name": "stdout",
     "output_type": "stream",
     "text": [
      "filename= AlariodelRio_PianoPieceNo8.xml composer= AlariodelRio piece= AlariodelRio_PianoPieceNo8\n",
      "filename= Allard_5diversions.xml composer= Allard piece= Allard_5diversions\n",
      "filename= Bachlund_Commedia_Dellarte.xml composer= Bachlund piece= Bachlund_Commedia_Dellarte\n",
      "filename= Beatty_Musing_for_Piano.xml composer= Beatty piece= Beatty_Musing_for_Piano\n",
      "filename= Copland_Piano_Blues_No_3.mxl composer= Copland piece= Copland_Piano_Blues_No_3\n",
      "filename= Messiaen_Regard_du_Pere.mxl composer= Messiaen piece= Messiaen_Regard_du_Pere\n",
      "filename= Part_Fuer_Alina.mxl composer= Part piece= Part_Fuer_Alina\n",
      "filename= Poulenc_Les_chemins_de_lamour.mxl composer= Poulenc piece= Poulenc_Les_chemins_de_lamour\n",
      "filename= Rautavaara_Etude_op42_no1_Thirds.mxl composer= Rautavaara piece= Rautavaara_Etude_op42_no1_Thirds\n",
      "filename= Schnittke_Tango.mxl composer= Schnittke piece= Schnittke_Tango\n",
      "filename= Sculthorpe_Sea_Chant.mxl composer= Sculthorpe piece= Sculthorpe_Sea_Chant\n",
      "filename= Simpson_Invention_no6.xml composer= Simpson piece= Simpson_Invention_no6\n",
      "filename= Takemitsu_Romance.mxl composer= Takemitsu piece= Takemitsu_Romance\n",
      "filename= Zhang_Mazurka.xml composer= Zhang piece= Zhang_Mazurka\n"
     ]
    }
   ],
   "source": [
    "#parse all mxl files downloaded from MuseScore\n",
    "for filename in (xmlFiles):\n",
    "    piece=filename[0:filename.find(\".\")]\n",
    "    fileloc='./mxl_files./' + filename\n",
    "    composer=filename[0:filename.find(\"_\")]\n",
    "    print('filename=',filename,'composer=',composer, 'piece=',piece)\n",
    "    c = converter.Converter()\n",
    "    c.parseFile(fileloc)\n",
    "    s = c.stream\n",
    "    sChords=s.chordify().flat\n",
    "    chordList=[]\n",
    "    for thisChord in sChords.recurse().getElementsByClass('Chord'):\n",
    "        normalOrder = thisChord.normalOrder\n",
    "        firstPitch = normalOrder[0]\n",
    "        normalTranspose=[(pc - firstPitch) % 12 for pc in normalOrder]\n",
    "        chordList.append([thisChord.measureNumber, thisChord.beatStr, float(thisChord.offset), thisChord, normalTranspose, normalOrder, filename, composer])\n",
    "        \n",
    "    df=pd.DataFrame(chordList, columns=['measureNumber','beatNumber','offset','Chord','NormalForm','PCsInNormalForm','file','Composer'])\n",
    "    df.to_csv('./csv_files/' + piece + '.csv',index=False)\n",
    "    "
   ]
  },
  {
   "cell_type": "code",
   "execution_count": null,
   "metadata": {},
   "outputs": [],
   "source": []
  }
 ],
 "metadata": {
  "kernelspec": {
   "display_name": "Python 3",
   "language": "python",
   "name": "python3"
  },
  "language_info": {
   "codemirror_mode": {
    "name": "ipython",
    "version": 3
   },
   "file_extension": ".py",
   "mimetype": "text/x-python",
   "name": "python",
   "nbconvert_exporter": "python",
   "pygments_lexer": "ipython3",
   "version": "3.7.4"
  }
 },
 "nbformat": 4,
 "nbformat_minor": 4
}
